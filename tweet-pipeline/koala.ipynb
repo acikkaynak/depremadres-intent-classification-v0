{
 "cells": [
  {
   "cell_type": "code",
   "execution_count": 1,
   "metadata": {},
   "outputs": [
    {
     "name": "stdout",
     "output_type": "stream",
     "text": [
      "{\"output\":\"['ELEKTRONIK', 'BARINMA'], {'adres': 'Gaziantep Sevindi Köyü'}\"}\n",
      "{\"output\":\"['YEMEK', 'SU', 'GIYSI', 'BARINMA'], {'adres': 'Şanlıurfa 2. Organize Sanayi Bölgesi Fabrikaların Olduğu Bölge Karaköprü Merkez'}\"}\n",
      "{\"output\":\"['YEMEK', 'SU', 'GIYSI', 'BARINMA', 'LOJISTIK'], {'adres': 'Hatay Defne Çekmece mahallesi 41/2'}\"}\n",
      "{\"output\":\"['YEMEK', 'GIYSI'], {'adres': 'Kahramanmaraş Avşin Avşin Yeşilyurt Mahallesi Kemalertekin Caddesi Hastane Üstü Mobese Karşısı'}\"}\n",
      "{\"output\":\"['KURTARMA'], {'adres': 'Atatürk Caddesi 1 Nolu Sağlık Ocağının 100 m doğusu Gencebay Kasap- Fırının arkası, Samandağ/Hatay'}\"}\n",
      "{\"output\":\"['KURTARMA'], {'adres': None}\"}\n"
     ]
    }
   ],
   "source": [
    "# import requests\n",
    "# import json\n",
    "\n",
    "# tweet = 'İletişim: Alperen Kurt - 5375590370 Adres: Gaziantep sevindi köyü Mesaj: köy evinde kalıyoruz elektrikli soba ihtiyacımız var 20-25 kişiyiz https://t.co/v6ZteOPatj @afadbaskanlik @akut_dernegi @ahbap @haluklevent #depremAdres'\n",
    "# tweet2 = '\"İletişim: Fatma - 5454948636 Adres: Şanlıurfa 2.organize sanayi bölgesi fabrikaların olduğu bölge karaköprü  merkez Mesaj: Şanlıurfada camide kalıyoruz hijyen paketleri kadınlar için,çocuk bezi mama ihtiyaç https://t.co/v6ZteOPatj @afadbaskanlik @ahbap @haluklevent #depremAdres\"'\n",
    "# tweet3 = '\"İletişim: Özgür sezen - 5055986960 Adres: Hatay Defne Çekmece mahallesi 41/2  Mesaj: bebek bezi mama su hasta bezi yorgan battaniye fener ve kalın kıyafetler https://t.co/tV5WR3R5Wn @afadbaskanlik @akut_dernegi @ahbap @haluklevent #depremAdres\"'\n",
    "# tweet4 = '\"İletişim: Muhammet çobanpınar - 05456375898 Adres: Kahramanmaraş Avşin avşin yeşilyurt mahalesi kemalertekin caddesi hastane üstü mobese karşısı Mesaj: Gıda ve battaniye ihtiyaçları var. @afadbaskanlik @akut_dernegi @ahbap @haluklevent #depremAdres\"'\n",
    "# tweet5 = '\"@Darkwebhaber #depremadres adres: Atatürk Caddesi 1 Nolu Sağlık Ocağının 100 m doğusu Gencebay Kasap- Fırının arkası, Samandağ/Hatay telefonla az önce konuşuldu yaşam belirtisi mevcut gelen giden henüz olmamış sesler gelmekte  0537 773 6787 0537 329 6809 https://t.co/4T74jCkKCk\"'\n",
    "# tweet6 = '\"YANGIN BAŞLAMIŞ, LÜTFEN ACİL Hala sesleri geliyor, enkaz altındalar YEŞİM - YAREN BEHZATOĞL #depremadre https://t.co/9RzpgX2J #hatayyardimbekliyor #AHBAP #OguzhanUgur @ahbap  @haluklevent @AFADBaskanlik  @OguzhanUgur @BabalaTv @CMYLMZ\"'\n",
    "\n",
    "# tweet_list = [tweet, tweet2, tweet3, tweet4, tweet5, tweet6]\n",
    "\n",
    "# for tweet in tweet_list:\n",
    "#     prompt = \"\"\"\n",
    "#             Generate keyword content and adress. You are highly intelligent and accurate sentimental analyst. From\n",
    "#             plain text input and especially from emergency text that carries address and/or demand information, your inputs can be text\n",
    "#             of arbitrary size written in Turkish considering the tweets from Turkey, the label has to be one of the following:\n",
    "#             ['YEMEK', 'SU', 'ELEKTRONIK', 'GIYSI', 'BARINMA', 'LOJISTIK', 'KURTARMA', 'SAGLIK', 'YAGMALAMA', 'TUVALET', 'ALAKASIZ'].\n",
    "#             'ALAKASIZ' means the tweet is not related any of the other labels. ONLY AND ONLY give the output as one of the labels from the \n",
    "#             given list without providing any further information and say only 'None' if you're not able to extract the information. Note that the\n",
    "#             labels are not mutually exclusive, a tweet can have multiple labels. Lastly, parse the tweet to extract the address information and\n",
    "#             save it as a dictionary with the key 'address' and the value as the address as {'adres': 'address information'}. If the address is not\n",
    "#             found in the tweet, then the value should be None.\n",
    "#             Example:\n",
    "#                     Input: #depremadres #deprem  Göçükten ses gelmediği için vinçler geri gitmis arkadaşlarımız enkaz altında lütfen artık çıkarılsınlar lütfen  ZENGİNLER MAHALLESİ KIRK ASIRLIK TÜRK YURDU CADDESİ (2.YILDIZ APARTMANI) BİNA NO :26 KAPI NO:8 KAT:4 ANTAKYA/ HATAY https://t.co/81JbSYUMEw\n",
    "#                     Output: ['KURTARMA'], {'adres': 'Zenginler Mahallesi Kırk Asırlık Tğrk Yurdu Caddesı (2. Yıldız Apartmanı) Bina No:26 Kapı No:8 Kat:4 Antakya/Hatay'}\n",
    "#             Question:\n",
    "#                     Input: \n",
    "#             \"\"\" + tweet + \"\\n Output: \"\n",
    "\n",
    "#     data = {\"input\": prompt}\n",
    "\n",
    "#     headers = {\"Content-Type\": \"application/json\", \"User-Agent\": \"turkey-earthquake-dev\"}\n",
    "\n",
    "#     data = json.dumps(data)\n",
    "\n",
    "#     response = requests.post('https://koala.sh/api/gpt/', headers=headers, data=data)\n",
    "\n",
    "#     print(response.text)"
   ]
  },
  {
   "cell_type": "code",
   "execution_count": 48,
   "metadata": {},
   "outputs": [],
   "source": [
    "import pandas as pd\n",
    "import numpy as np\n",
    "from koala_call import get_label_and_adres\n",
    "from unidecode import unidecode\n",
    "import requests\n",
    "import json\n",
    "\n",
    "# show all columns and rows in pandas\n",
    "pd.set_option('display.max_columns', None)\n",
    "pd.set_option('display.max_rows', None)\n",
    "pd.set_option('display.max_colwidth', None)"
   ]
  },
  {
   "cell_type": "code",
   "execution_count": 36,
   "metadata": {},
   "outputs": [
    {
     "data": {
      "text/html": [
       "<div>\n",
       "<style scoped>\n",
       "    .dataframe tbody tr th:only-of-type {\n",
       "        vertical-align: middle;\n",
       "    }\n",
       "\n",
       "    .dataframe tbody tr th {\n",
       "        vertical-align: top;\n",
       "    }\n",
       "\n",
       "    .dataframe thead th {\n",
       "        text-align: right;\n",
       "    }\n",
       "</style>\n",
       "<table border=\"1\" class=\"dataframe\">\n",
       "  <thead>\n",
       "    <tr style=\"text-align: right;\">\n",
       "      <th></th>\n",
       "      <th>text</th>\n",
       "      <th>text_cleaned</th>\n",
       "      <th>labels</th>\n",
       "    </tr>\n",
       "  </thead>\n",
       "  <tbody>\n",
       "    <tr>\n",
       "      <th>1539</th>\n",
       "      <td>@Bubbleblueme_ @SonSozMilletinn Sen ne dıyorsu...</td>\n",
       "      <td>Sen ne dıyorsun davar seni ihtiyaç 20kutu alma...</td>\n",
       "      <td>[Alakasiz]</td>\n",
       "    </tr>\n",
       "    <tr>\n",
       "      <th>1540</th>\n",
       "      <td>Merhabalar acil olarak paylaşır mısınız?Kahram...</td>\n",
       "      <td>Merhabalar acil olarak paylaşır mısınız?Kahram...</td>\n",
       "      <td>[Giysi, Yemek, Barinma, Kurtarma, Su]</td>\n",
       "    </tr>\n",
       "    <tr>\n",
       "      <th>1541</th>\n",
       "      <td>@ahbap 30 yıllık elektrikçilik tecrübem var ih...</td>\n",
       "      <td>30 yıllık elektrikçilik tecrübem var ihtiyaç d...</td>\n",
       "      <td>[Alakasiz]</td>\n",
       "    </tr>\n",
       "    <tr>\n",
       "      <th>1542</th>\n",
       "      <td>\"HAYAT'DA GIDA, İLAÇ, GİYECEK  İHTİYACI OLANLA...</td>\n",
       "      <td>\"HAYAT'DA GIDA, İLAÇ, GİYECEK İHTİYACI OLANLAR...</td>\n",
       "      <td>[Yemek, Giysi, Saglik, Su]</td>\n",
       "    </tr>\n",
       "    <tr>\n",
       "      <th>1543</th>\n",
       "      <td>@shahidovcom Insanin Gozu onlu bol olacak; ser...</td>\n",
       "      <td>Insanin Gozu onlu bol olacak; servetin cok ols...</td>\n",
       "      <td>[Alakasiz]</td>\n",
       "    </tr>\n",
       "  </tbody>\n",
       "</table>\n",
       "</div>"
      ],
      "text/plain": [
       "                                                   text  \\\n",
       "1539  @Bubbleblueme_ @SonSozMilletinn Sen ne dıyorsu...   \n",
       "1540  Merhabalar acil olarak paylaşır mısınız?Kahram...   \n",
       "1541  @ahbap 30 yıllık elektrikçilik tecrübem var ih...   \n",
       "1542  \"HAYAT'DA GIDA, İLAÇ, GİYECEK  İHTİYACI OLANLA...   \n",
       "1543  @shahidovcom Insanin Gozu onlu bol olacak; ser...   \n",
       "\n",
       "                                           text_cleaned  \\\n",
       "1539  Sen ne dıyorsun davar seni ihtiyaç 20kutu alma...   \n",
       "1540  Merhabalar acil olarak paylaşır mısınız?Kahram...   \n",
       "1541  30 yıllık elektrikçilik tecrübem var ihtiyaç d...   \n",
       "1542  \"HAYAT'DA GIDA, İLAÇ, GİYECEK İHTİYACI OLANLAR...   \n",
       "1543  Insanin Gozu onlu bol olacak; servetin cok ols...   \n",
       "\n",
       "                                     labels  \n",
       "1539                             [Alakasiz]  \n",
       "1540  [Giysi, Yemek, Barinma, Kurtarma, Su]  \n",
       "1541                             [Alakasiz]  \n",
       "1542             [Yemek, Giysi, Saglik, Su]  \n",
       "1543                             [Alakasiz]  "
      ]
     },
     "execution_count": 36,
     "metadata": {},
     "output_type": "execute_result"
    }
   ],
   "source": [
    "df = pd.read_json('intent-multilabel-test-v1-2.json')\n",
    "df.tail()"
   ]
  },
  {
   "cell_type": "code",
   "execution_count": 37,
   "metadata": {},
   "outputs": [
    {
     "data": {
      "text/html": [
       "<div>\n",
       "<style scoped>\n",
       "    .dataframe tbody tr th:only-of-type {\n",
       "        vertical-align: middle;\n",
       "    }\n",
       "\n",
       "    .dataframe tbody tr th {\n",
       "        vertical-align: top;\n",
       "    }\n",
       "\n",
       "    .dataframe thead th {\n",
       "        text-align: right;\n",
       "    }\n",
       "</style>\n",
       "<table border=\"1\" class=\"dataframe\">\n",
       "  <thead>\n",
       "    <tr style=\"text-align: right;\">\n",
       "      <th></th>\n",
       "      <th>text</th>\n",
       "      <th>text_cleaned</th>\n",
       "      <th>labels</th>\n",
       "      <th>text_cleaned_en</th>\n",
       "    </tr>\n",
       "  </thead>\n",
       "  <tbody>\n",
       "    <tr>\n",
       "      <th>0</th>\n",
       "      <td>@yagosabuncuoglu Abi acil Adıyaman' da görev y...</td>\n",
       "      <td>Abi acil Adıyaman' da görev yapan eniştemden h...</td>\n",
       "      <td>[Barinma]</td>\n",
       "      <td>@yagosabuncuoglu Abi acil Adiyaman' da gorev y...</td>\n",
       "    </tr>\n",
       "    <tr>\n",
       "      <th>1</th>\n",
       "      <td>Maraş'tan Uşağa gelecek bir depremzede aile va...</td>\n",
       "      <td>Maraş'tan Uşağa gelecek bir depremzede aile va...</td>\n",
       "      <td>[Lojistik]</td>\n",
       "      <td>Maras'tan Usaga gelecek bir depremzede aile va...</td>\n",
       "    </tr>\n",
       "    <tr>\n",
       "      <th>2</th>\n",
       "      <td>\"Teyitli bilgi: Acil çadır ihtiyacı var! İki k...</td>\n",
       "      <td>\"Teyitli bilgi: Acil çadır ihtiyacı var! İki k...</td>\n",
       "      <td>[Barinma]</td>\n",
       "      <td>Teyitli bilgi: Acil cadir ihtiyaci var! Iki ku...</td>\n",
       "    </tr>\n",
       "    <tr>\n",
       "      <th>3</th>\n",
       "      <td>paketleme için insan gücüne ihtiyaç duyulan ye...</td>\n",
       "      <td>paketleme için insan gücüne ihtiyaç duyulan ye...</td>\n",
       "      <td>[Alakasiz]</td>\n",
       "      <td>paketleme icin insan gucune ihtiyac duyulan ye...</td>\n",
       "    </tr>\n",
       "    <tr>\n",
       "      <th>4</th>\n",
       "      <td>Bu devlete çok ihanet içindesiniz  yapmayın bi...</td>\n",
       "      <td>Bu devlete çok ihanet içindesiniz yapmayın bir...</td>\n",
       "      <td>[Alakasiz]</td>\n",
       "      <td>Bu devlete cok ihanet icindesiniz  yapmayin bi...</td>\n",
       "    </tr>\n",
       "  </tbody>\n",
       "</table>\n",
       "</div>"
      ],
      "text/plain": [
       "                                                text  \\\n",
       "0  @yagosabuncuoglu Abi acil Adıyaman' da görev y...   \n",
       "1  Maraş'tan Uşağa gelecek bir depremzede aile va...   \n",
       "2  \"Teyitli bilgi: Acil çadır ihtiyacı var! İki k...   \n",
       "3  paketleme için insan gücüne ihtiyaç duyulan ye...   \n",
       "4  Bu devlete çok ihanet içindesiniz  yapmayın bi...   \n",
       "\n",
       "                                        text_cleaned      labels  \\\n",
       "0  Abi acil Adıyaman' da görev yapan eniştemden h...   [Barinma]   \n",
       "1  Maraş'tan Uşağa gelecek bir depremzede aile va...  [Lojistik]   \n",
       "2  \"Teyitli bilgi: Acil çadır ihtiyacı var! İki k...   [Barinma]   \n",
       "3  paketleme için insan gücüne ihtiyaç duyulan ye...  [Alakasiz]   \n",
       "4  Bu devlete çok ihanet içindesiniz yapmayın bir...  [Alakasiz]   \n",
       "\n",
       "                                     text_cleaned_en  \n",
       "0  @yagosabuncuoglu Abi acil Adiyaman' da gorev y...  \n",
       "1  Maras'tan Usaga gelecek bir depremzede aile va...  \n",
       "2  Teyitli bilgi: Acil cadir ihtiyaci var! Iki ku...  \n",
       "3  paketleme icin insan gucune ihtiyac duyulan ye...  \n",
       "4  Bu devlete cok ihanet icindesiniz  yapmayin bi...  "
      ]
     },
     "execution_count": 37,
     "metadata": {},
     "output_type": "execute_result"
    }
   ],
   "source": [
    "df['text_cleaned_en'] = df['text'].apply(lambda x: unidecode(x))\n",
    "# clean \" from the beggining and end of the text if exists\n",
    "df['text_cleaned_en'] = df['text_cleaned_en'].apply(lambda x: x[1:-1] if x[0] == '\"' and x[-1] == '\"' else x)\n",
    "df.head()"
   ]
  },
  {
   "cell_type": "code",
   "execution_count": 38,
   "metadata": {},
   "outputs": [],
   "source": [
    "# l, a = get_label_and_adres(df['text_cleaned_en'][0])"
   ]
  },
  {
   "cell_type": "code",
   "execution_count": 39,
   "metadata": {},
   "outputs": [],
   "source": [
    "# l, a"
   ]
  },
  {
   "cell_type": "code",
   "execution_count": 40,
   "metadata": {},
   "outputs": [],
   "source": [
    "# get only label from get_label_and_adres function\n",
    "# df['labels_by_koala'] = df['text_cleaned_en'].apply(lambda x: get_label_and_adres(x)[0])"
   ]
  },
  {
   "cell_type": "code",
   "execution_count": null,
   "metadata": {},
   "outputs": [],
   "source": []
  },
  {
   "cell_type": "code",
   "execution_count": 41,
   "metadata": {},
   "outputs": [
    {
     "data": {
      "text/plain": [
       "1544"
      ]
     },
     "execution_count": 41,
     "metadata": {},
     "output_type": "execute_result"
    }
   ],
   "source": [
    "len(df)"
   ]
  },
  {
   "cell_type": "code",
   "execution_count": 42,
   "metadata": {},
   "outputs": [
    {
     "data": {
      "text/html": [
       "<div>\n",
       "<style scoped>\n",
       "    .dataframe tbody tr th:only-of-type {\n",
       "        vertical-align: middle;\n",
       "    }\n",
       "\n",
       "    .dataframe tbody tr th {\n",
       "        vertical-align: top;\n",
       "    }\n",
       "\n",
       "    .dataframe thead th {\n",
       "        text-align: right;\n",
       "    }\n",
       "</style>\n",
       "<table border=\"1\" class=\"dataframe\">\n",
       "  <thead>\n",
       "    <tr style=\"text-align: right;\">\n",
       "      <th></th>\n",
       "      <th>text</th>\n",
       "      <th>text_cleaned</th>\n",
       "      <th>labels</th>\n",
       "      <th>text_cleaned_en</th>\n",
       "    </tr>\n",
       "  </thead>\n",
       "  <tbody>\n",
       "    <tr>\n",
       "      <th>0</th>\n",
       "      <td>@yagosabuncuoglu Abi acil Adıyaman' da görev y...</td>\n",
       "      <td>Abi acil Adıyaman' da görev yapan eniştemden h...</td>\n",
       "      <td>[Barinma]</td>\n",
       "      <td>@yagosabuncuoglu Abi acil Adiyaman' da gorev y...</td>\n",
       "    </tr>\n",
       "    <tr>\n",
       "      <th>1</th>\n",
       "      <td>Maraş'tan Uşağa gelecek bir depremzede aile va...</td>\n",
       "      <td>Maraş'tan Uşağa gelecek bir depremzede aile va...</td>\n",
       "      <td>[Lojistik]</td>\n",
       "      <td>Maras'tan Usaga gelecek bir depremzede aile va...</td>\n",
       "    </tr>\n",
       "    <tr>\n",
       "      <th>2</th>\n",
       "      <td>\"Teyitli bilgi: Acil çadır ihtiyacı var! İki k...</td>\n",
       "      <td>\"Teyitli bilgi: Acil çadır ihtiyacı var! İki k...</td>\n",
       "      <td>[Barinma]</td>\n",
       "      <td>Teyitli bilgi: Acil cadir ihtiyaci var! Iki ku...</td>\n",
       "    </tr>\n",
       "    <tr>\n",
       "      <th>3</th>\n",
       "      <td>paketleme için insan gücüne ihtiyaç duyulan ye...</td>\n",
       "      <td>paketleme için insan gücüne ihtiyaç duyulan ye...</td>\n",
       "      <td>[Alakasiz]</td>\n",
       "      <td>paketleme icin insan gucune ihtiyac duyulan ye...</td>\n",
       "    </tr>\n",
       "    <tr>\n",
       "      <th>4</th>\n",
       "      <td>Bu devlete çok ihanet içindesiniz  yapmayın bi...</td>\n",
       "      <td>Bu devlete çok ihanet içindesiniz yapmayın bir...</td>\n",
       "      <td>[Alakasiz]</td>\n",
       "      <td>Bu devlete cok ihanet icindesiniz  yapmayin bi...</td>\n",
       "    </tr>\n",
       "  </tbody>\n",
       "</table>\n",
       "</div>"
      ],
      "text/plain": [
       "                                                text  \\\n",
       "0  @yagosabuncuoglu Abi acil Adıyaman' da görev y...   \n",
       "1  Maraş'tan Uşağa gelecek bir depremzede aile va...   \n",
       "2  \"Teyitli bilgi: Acil çadır ihtiyacı var! İki k...   \n",
       "3  paketleme için insan gücüne ihtiyaç duyulan ye...   \n",
       "4  Bu devlete çok ihanet içindesiniz  yapmayın bi...   \n",
       "\n",
       "                                        text_cleaned      labels  \\\n",
       "0  Abi acil Adıyaman' da görev yapan eniştemden h...   [Barinma]   \n",
       "1  Maraş'tan Uşağa gelecek bir depremzede aile va...  [Lojistik]   \n",
       "2  \"Teyitli bilgi: Acil çadır ihtiyacı var! İki k...   [Barinma]   \n",
       "3  paketleme için insan gücüne ihtiyaç duyulan ye...  [Alakasiz]   \n",
       "4  Bu devlete çok ihanet içindesiniz yapmayın bir...  [Alakasiz]   \n",
       "\n",
       "                                     text_cleaned_en  \n",
       "0  @yagosabuncuoglu Abi acil Adiyaman' da gorev y...  \n",
       "1  Maras'tan Usaga gelecek bir depremzede aile va...  \n",
       "2  Teyitli bilgi: Acil cadir ihtiyaci var! Iki ku...  \n",
       "3  paketleme icin insan gucune ihtiyac duyulan ye...  \n",
       "4  Bu devlete cok ihanet icindesiniz  yapmayin bi...  "
      ]
     },
     "execution_count": 42,
     "metadata": {},
     "output_type": "execute_result"
    }
   ],
   "source": [
    "df.head(5)"
   ]
  },
  {
   "cell_type": "code",
   "execution_count": 53,
   "metadata": {},
   "outputs": [],
   "source": [
    "# create prompt and prompt2 columns with all empty cells in df\n",
    "df['prompt'] = np.nan\n",
    "df['prompt2'] = np.nan"
   ]
  },
  {
   "cell_type": "code",
   "execution_count": 54,
   "metadata": {},
   "outputs": [
    {
     "name": "stderr",
     "output_type": "stream",
     "text": [
      "/var/folders/60/vg6rxph94njcpymg3vmmv_600000gn/T/ipykernel_35360/233009857.py:52: SettingWithCopyWarning: \n",
      "A value is trying to be set on a copy of a slice from a DataFrame\n",
      "\n",
      "See the caveats in the documentation: https://pandas.pydata.org/pandas-docs/stable/user_guide/indexing.html#returning-a-view-versus-a-copy\n",
      "  df['prompt'][i] = response.text\n"
     ]
    }
   ],
   "source": [
    "for i in range(250):\n",
    "    text_input = df['text_cleaned_en'][i]\n",
    "    # print(text_input)\n",
    "\n",
    "    prompt = f\"\"\"\n",
    "    You will be given a text, according to this text extract the address, phone number and list of their needs if there is any, write the response as json format.\n",
    "\n",
    "        Choose one or more intents from this list: ['Shelter', 'Hygiene/Toilet', 'Clothing', 'Rescue and Scream', 'Logistics', 'Health', 'Water', 'Loot', 'Food']\n",
    "        write the needs in descending order.  You can output the needs list as [\"Alakasiz\"] if the tweet is unrelated to the earthquake disaster.\n",
    "\n",
    "        For example:\n",
    "\n",
    "        Text:Annemler Mazota ulaşmakta zorluk çekiyor benzin/ mazot sadece Antakya köprü başına geliyor ve hemen bitiyor yolda bildiğiniz tanker varsa şehrin diğer mahallelerinde de\n",
    "        mazota ihtiyaç var özellikle jeneratörler için çok elzem\n",
    "\n",
    "        Narlıca Mh, Fatih Cd, 308. Sk\n",
    "\n",
    "        0537 607 2821\n",
    "\n",
    "        Output:\n",
    "        {{\n",
    "            \"address\": \"Narlıca Mh, Fatih Cd, 308. Sk\",\n",
    "            \"phone\": \"0537 607 2821\",\n",
    "            \"needs\": [\"Mazot\"],\n",
    "            \"intent\": [\"Logistics\"]\n",
    "        }}\n",
    "        \n",
    "        Text: Hala ses geliyormuş Teyit edildi lütfen acil kurtarma ekibi\n",
    "\n",
    "        Output:\n",
    "        {{\n",
    "            \"address\": \"\",\n",
    "            \"phone\": \"\",\n",
    "            \"needs\": [\"kurtarma ekibi\"],\n",
    "            \"intent\": [\"Rescue and Scream\"]\n",
    "        }}\n",
    "\n",
    "\n",
    "        Text: {text_input}\n",
    "\n",
    "        Output:\n",
    "    \"\"\"\n",
    "\n",
    "    data = {\"input\": prompt}\n",
    "\n",
    "    headers = {\"Content-Type\": \"application/json\", \"User-Agent\": \"turkey-earthquake-dev\"}\n",
    "\n",
    "    data = json.dumps(data)\n",
    "\n",
    "    response = requests.post('https://koala.sh/api/gpt/', headers=headers, data=data)\n",
    "\n",
    "    df['prompt'][i] = response.text \n"
   ]
  },
  {
   "cell_type": "code",
   "execution_count": 55,
   "metadata": {},
   "outputs": [],
   "source": [
    "# df.head(5)"
   ]
  },
  {
   "cell_type": "code",
   "execution_count": 60,
   "metadata": {},
   "outputs": [
    {
     "data": {
      "text/plain": [
       "[\"@yagosabuncuoglu Abi acil Adiyaman' da gorev yapan enistemden haber geldi Adiyaman Universitesi yanina acil cadir ihtiyaci oldugunu soyledi\",\n",
       " \"Maras'tan Usaga gelecek bir depremzede aile var. Usak'ta kalacaklari ev ayarlandi. 4 yetiskin 3 cocuk icin usak istikametine gelen cok acil bir arac ariyoruz. 05398639516#deprem #depremsondakika #AFADKahramanmaras\",\n",
       " 'Teyitli bilgi: Acil cadir ihtiyaci var! Iki kucuk cocuk, bir de yasli teyzemiz var. Teyzemiz ayagindan ameliyatli oldugu icin kimildayamiyor! Adres: Kahramanmaras, Hasancikli Mahallesi, Sokak 89001, No: 29 Iletisim: Ibrahim Seker, 05363994944 #depremsondakika #deprem',\n",
       " 'paketleme icin insan gucune ihtiyac duyulan yer bilgileri icin; #deprem t.me/depreminsan',\n",
       " 'Bu devlete cok ihanet icindesiniz  yapmayin bir gun bu devlet size de lazim olur ulkemiz zor durumda Zor durumdan. Faydalanmak kimlerin isidir iyi bilirsiniz soylememe gerek yok...']"
      ]
     },
     "execution_count": 60,
     "metadata": {},
     "output_type": "execute_result"
    }
   ],
   "source": [
    "tweet_list = df['text_cleaned_en'][:5].tolist()\n",
    "tweet_list"
   ]
  },
  {
   "cell_type": "code",
   "execution_count": 58,
   "metadata": {},
   "outputs": [
    {
     "data": {
      "text/plain": [
       "'{\"outputs\":[{\"string\":[\"{\\\\\"status\\\\\": \\\\\"ERROR\\\\\"}\"],\"processed\":{\"intent\":\"unknown\"}},{\"string\":[\"{\\\\\"status\\\\\": \\\\\"ERROR\\\\\"}\"],\"processed\":{\"intent\":\"unknown\"}},{\"string\":[\"{\\\\\"status\\\\\": \\\\\"ERROR\\\\\"}\"],\"processed\":{\"intent\":\"unknown\"}},{\"string\":[\"{\\\\\"status\\\\\": \\\\\"ERROR\\\\\"}\"],\"processed\":{\"intent\":\"unknown\"}},{\"string\":[\"{\\\\\"status\\\\\": \\\\\"ERROR\\\\\"}\"],\"processed\":{\"intent\":\"unknown\"}},{\"string\":[\"{\\\\\"status\\\\\": \\\\\"ERROR\\\\\"}\"],\"processed\":{\"intent\":\"unknown\"}},{\"string\":[\"{\\\\\"status\\\\\": \\\\\"ERROR\\\\\"}\"],\"processed\":{\"intent\":\"unknown\"}},{\"string\":[\"{\\\\\"status\\\\\": \\\\\"ERROR\\\\\"}\"],\"processed\":{\"intent\":\"unknown\"}},{\"string\":[\"{\\\\\"status\\\\\": \\\\\"ERROR\\\\\"}\"],\"processed\":{\"intent\":\"unknown\"}},{\"string\":[\"{\\\\\"status\\\\\": \\\\\"ERROR\\\\\"}\"],\"processed\":{\"intent\":\"unknown\"}},{\"string\":[\"{\\\\\"status\\\\\": \\\\\"ERROR\\\\\"}\"],\"processed\":{\"intent\":\"unknown\"}},{\"string\":[\"{\\\\\"status\\\\\": \\\\\"ERROR\\\\\"}\"],\"processed\":{\"intent\":\"unknown\"}},{\"string\":[\"{\\\\\"status\\\\\": \\\\\"ERROR\\\\\"}\"],\"processed\":{\"intent\":\"unknown\"}},{\"string\":[\"{\\\\\"status\\\\\": \\\\\"ERROR\\\\\"}\"],\"processed\":{\"intent\":\"unknown\"}},{\"string\":[\"{\\\\\"status\\\\\": \\\\\"ERROR\\\\\"}\"],\"processed\":{\"intent\":\"unknown\"}},{\"string\":[\"{\\\\\"status\\\\\": \\\\\"ERROR\\\\\"}\"],\"processed\":{\"intent\":\"unknown\"}},{\"string\":[\"{\\\\\"status\\\\\": \\\\\"ERROR\\\\\"}\"],\"processed\":{\"intent\":\"unknown\"}},{\"string\":[\"{\\\\\"status\\\\\": \\\\\"ERROR\\\\\"}\"],\"processed\":{\"intent\":\"unknown\"}},{\"string\":[\"{\\\\\"status\\\\\": \\\\\"ERROR\\\\\"}\"],\"processed\":{\"intent\":\"unknown\"}},{\"string\":[\"{\\\\\"status\\\\\": \\\\\"ERROR\\\\\"}\"],\"processed\":{\"intent\":\"unknown\"}},{\"string\":[\"{\\\\\"status\\\\\": \\\\\"ERROR\\\\\"}\"],\"processed\":{\"intent\":\"unknown\"}},{\"string\":[\"{\\\\\"status\\\\\": \\\\\"ERROR\\\\\"}\"],\"processed\":{\"intent\":\"unknown\"}},{\"string\":[\"{\\\\\"status\\\\\": \\\\\"ERROR\\\\\"}\"],\"processed\":{\"intent\":\"unknown\"}},{\"string\":[\"{\\\\\"status\\\\\": \\\\\"ERROR\\\\\"}\"],\"processed\":{\"intent\":\"unknown\"}},{\"string\":[\"{\\\\\"status\\\\\": \\\\\"ERROR\\\\\"}\"],\"processed\":{\"intent\":\"unknown\"}},{\"string\":[\"{\\\\\"status\\\\\": \\\\\"ERROR\\\\\"}\"],\"processed\":{\"intent\":\"unknown\"}},{\"string\":[\"{\\\\\"status\\\\\": \\\\\"ERROR\\\\\"}\"],\"processed\":{\"intent\":\"unknown\"}},{\"string\":[\"{\\\\\"status\\\\\": \\\\\"ERROR\\\\\"}\"],\"processed\":{\"intent\":\"unknown\"}},{\"string\":[\"{\\\\\"status\\\\\": \\\\\"ERROR\\\\\"}\"],\"processed\":{\"intent\":\"unknown\"}},{\"string\":[\"{\\\\\"status\\\\\": \\\\\"ERROR\\\\\"}\"],\"processed\":{\"intent\":\"unknown\"}},{\"string\":[\"{\\\\\"status\\\\\": \\\\\"ERROR\\\\\"}\"],\"processed\":{\"intent\":\"unknown\"}},{\"string\":[\"{\\\\\"status\\\\\": \\\\\"ERROR\\\\\"}\"],\"processed\":{\"intent\":\"unknown\"}},{\"string\":[\"{\\\\\"status\\\\\": \\\\\"ERROR\\\\\"}\"],\"processed\":{\"intent\":\"unknown\"}},{\"string\":[\"{\\\\\"status\\\\\": \\\\\"ERROR\\\\\"}\"],\"processed\":{\"intent\":\"unknown\"}},{\"string\":[\"{\\\\\"status\\\\\": \\\\\"ERROR\\\\\"}\"],\"processed\":{\"intent\":\"unknown\"}},{\"string\":[\"{\\\\\"status\\\\\": \\\\\"ERROR\\\\\"}\"],\"processed\":{\"intent\":\"unknown\"}},{\"string\":[\"{\\\\\"status\\\\\": \\\\\"ERROR\\\\\"}\"],\"processed\":{\"intent\":\"unknown\"}},{\"string\":[\"{\\\\\"status\\\\\": \\\\\"ERROR\\\\\"}\"],\"processed\":{\"intent\":\"unknown\"}},{\"string\":[\"{\\\\\"status\\\\\": \\\\\"ERROR\\\\\"}\"],\"processed\":{\"intent\":\"unknown\"}},{\"string\":[\"{\\\\\"status\\\\\": \\\\\"ERROR\\\\\"}\"],\"processed\":{\"intent\":\"unknown\"}},{\"string\":[\"{\\\\\"status\\\\\": \\\\\"ERROR\\\\\"}\"],\"processed\":{\"intent\":\"unknown\"}},{\"string\":[\"{\\\\\"status\\\\\": \\\\\"ERROR\\\\\"}\"],\"processed\":{\"intent\":\"unknown\"}},{\"string\":[\"{\\\\\"status\\\\\": \\\\\"ERROR\\\\\"}\"],\"processed\":{\"intent\":\"unknown\"}},{\"string\":[\"{\\\\\"status\\\\\": \\\\\"ERROR\\\\\"}\"],\"processed\":{\"intent\":\"unknown\"}},{\"string\":[\"{\\\\\"status\\\\\": \\\\\"ERROR\\\\\"}\"],\"processed\":{\"intent\":\"unknown\"}},{\"string\":[\"{\\\\\"status\\\\\": \\\\\"ERROR\\\\\"}\"],\"processed\":{\"intent\":\"unknown\"}},{\"string\":[\"{\\\\\"status\\\\\": \\\\\"ERROR\\\\\"}\"],\"processed\":{\"intent\":\"unknown\"}},{\"string\":[\"{\\\\\"status\\\\\": \\\\\"ERROR\\\\\"}\"],\"processed\":{\"intent\":\"unknown\"}},{\"string\":[\"{\\\\\"status\\\\\": \\\\\"ERROR\\\\\"}\"],\"processed\":{\"intent\":\"unknown\"}},{\"string\":[\"{\\\\\"status\\\\\": \\\\\"ERROR\\\\\"}\"],\"processed\":{\"intent\":\"unknown\"}},{\"string\":[\"{\\\\\"status\\\\\": \\\\\"ERROR\\\\\"}\"],\"processed\":{\"intent\":\"unknown\"}},{\"string\":[\"{\\\\\"status\\\\\": \\\\\"ERROR\\\\\"}\"],\"processed\":{\"intent\":\"unknown\"}},{\"string\":[\"{\\\\\"status\\\\\": \\\\\"ERROR\\\\\"}\"],\"processed\":{\"intent\":\"unknown\"}},{\"string\":[\"{\\\\\"status\\\\\": \\\\\"ERROR\\\\\"}\"],\"processed\":{\"intent\":\"unknown\"}},{\"string\":[\"{\\\\\"status\\\\\": \\\\\"ERROR\\\\\"}\"],\"processed\":{\"intent\":\"unknown\"}},{\"string\":[\"{\\\\\"status\\\\\": \\\\\"ERROR\\\\\"}\"],\"processed\":{\"intent\":\"unknown\"}},{\"string\":[\"{\\\\\"status\\\\\": \\\\\"ERROR\\\\\"}\"],\"processed\":{\"intent\":\"unknown\"}},{\"string\":[\"{\\\\\"status\\\\\": \\\\\"ERROR\\\\\"}\"],\"processed\":{\"intent\":\"unknown\"}},{\"string\":[\"{\\\\\"status\\\\\": \\\\\"ERROR\\\\\"}\"],\"processed\":{\"intent\":\"unknown\"}},{\"string\":[\"{\\\\\"status\\\\\": \\\\\"ERROR\\\\\"}\"],\"processed\":{\"intent\":\"unknown\"}},{\"string\":[\"{\\\\\"status\\\\\": \\\\\"ERROR\\\\\"}\"],\"processed\":{\"intent\":\"unknown\"}},{\"string\":[\"{\\\\\"status\\\\\": \\\\\"ERROR\\\\\"}\"],\"processed\":{\"intent\":\"unknown\"}},{\"string\":[\"{\\\\\"status\\\\\": \\\\\"ERROR\\\\\"}\"],\"processed\":{\"intent\":\"unknown\"}},{\"string\":[\"{\\\\\"status\\\\\": \\\\\"ERROR\\\\\"}\"],\"processed\":{\"intent\":\"unknown\"}},{\"string\":[\"{\\\\\"status\\\\\": \\\\\"ERROR\\\\\"}\"],\"processed\":{\"intent\":\"unknown\"}},{\"string\":[\"{\\\\\"status\\\\\": \\\\\"ERROR\\\\\"}\"],\"processed\":{\"intent\":\"unknown\"}},{\"string\":[\"{\\\\\"status\\\\\": \\\\\"ERROR\\\\\"}\"],\"processed\":{\"intent\":\"unknown\"}},{\"string\":[\"{\\\\\"status\\\\\": \\\\\"ERROR\\\\\"}\"],\"processed\":{\"intent\":\"unknown\"}},{\"string\":[\"{\\\\\"status\\\\\": \\\\\"ERROR\\\\\"}\"],\"processed\":{\"intent\":\"unknown\"}},{\"string\":[\"{\\\\\"status\\\\\": \\\\\"ERROR\\\\\"}\"],\"processed\":{\"intent\":\"unknown\"}},{\"string\":[\"{\\\\\"status\\\\\": \\\\\"ERROR\\\\\"}\"],\"processed\":{\"intent\":\"unknown\"}},{\"string\":[\"{\\\\\"status\\\\\": \\\\\"ERROR\\\\\"}\"],\"processed\":{\"intent\":\"unknown\"}},{\"string\":[\"{\\\\\"status\\\\\": \\\\\"ERROR\\\\\"}\"],\"processed\":{\"intent\":\"unknown\"}},{\"string\":[\"{\\\\\"status\\\\\": \\\\\"ERROR\\\\\"}\"],\"processed\":{\"intent\":\"unknown\"}},{\"string\":[\"{\\\\\"status\\\\\": \\\\\"ERROR\\\\\"}\"],\"processed\":{\"intent\":\"unknown\"}},{\"string\":[\"{\\\\\"status\\\\\": \\\\\"ERROR\\\\\"}\"],\"processed\":{\"intent\":\"unknown\"}},{\"string\":[\"{\\\\\"status\\\\\": \\\\\"ERROR\\\\\"}\"],\"processed\":{\"intent\":\"unknown\"}},{\"string\":[\"{\\\\\"status\\\\\": \\\\\"ERROR\\\\\"}\"],\"processed\":{\"intent\":\"unknown\"}},{\"string\":[\"{\\\\\"status\\\\\": \\\\\"ERROR\\\\\"}\"],\"processed\":{\"intent\":\"unknown\"}},{\"string\":[\"{\\\\\"status\\\\\": \\\\\"ERROR\\\\\"}\"],\"processed\":{\"intent\":\"unknown\"}},{\"string\":[\"{\\\\\"status\\\\\": \\\\\"ERROR\\\\\"}\"],\"processed\":{\"intent\":\"unknown\"}},{\"string\":[\"{\\\\\"status\\\\\": \\\\\"ERROR\\\\\"}\"],\"processed\":{\"intent\":\"unknown\"}},{\"string\":[\"{\\\\\"status\\\\\": \\\\\"ERROR\\\\\"}\"],\"processed\":{\"intent\":\"unknown\"}},{\"string\":[\"{\\\\\"status\\\\\": \\\\\"ERROR\\\\\"}\"],\"processed\":{\"intent\":\"unknown\"}},{\"string\":[\"{\\\\\"status\\\\\": \\\\\"ERROR\\\\\"}\"],\"processed\":{\"intent\":\"unknown\"}},{\"string\":[\"{\\\\\"status\\\\\": \\\\\"ERROR\\\\\"}\"],\"processed\":{\"intent\":\"unknown\"}},{\"string\":[\"{\\\\\"status\\\\\": \\\\\"ERROR\\\\\"}\"],\"processed\":{\"intent\":\"unknown\"}},{\"string\":[\"{\\\\\"status\\\\\": \\\\\"ERROR\\\\\"}\"],\"processed\":{\"intent\":\"unknown\"}},{\"string\":[\"{\\\\\"status\\\\\": \\\\\"ERROR\\\\\"}\"],\"processed\":{\"intent\":\"unknown\"}},{\"string\":[\"{\\\\\"status\\\\\": \\\\\"ERROR\\\\\"}\"],\"processed\":{\"intent\":\"unknown\"}},{\"string\":[\"{\\\\\"status\\\\\": \\\\\"ERROR\\\\\"}\"],\"processed\":{\"intent\":\"unknown\"}},{\"string\":[\"{\\\\\"status\\\\\": \\\\\"ERROR\\\\\"}\"],\"processed\":{\"intent\":\"unknown\"}},{\"string\":[\"{\\\\\"status\\\\\": \\\\\"ERROR\\\\\"}\"],\"processed\":{\"intent\":\"unknown\"}},{\"string\":[\"{\\\\\"status\\\\\": \\\\\"ERROR\\\\\"}\"],\"processed\":{\"intent\":\"unknown\"}},{\"string\":[\"{\\\\\"status\\\\\": \\\\\"ERROR\\\\\"}\"],\"processed\":{\"intent\":\"unknown\"}},{\"string\":[\"{\\\\\"status\\\\\": \\\\\"ERROR\\\\\"}\"],\"processed\":{\"intent\":\"unknown\"}},{\"string\":[\"{\\\\\"status\\\\\": \\\\\"ERROR\\\\\"}\"],\"processed\":{\"intent\":\"unknown\"}},{\"string\":[\"{\\\\\"status\\\\\": \\\\\"ERROR\\\\\"}\"],\"processed\":{\"intent\":\"unknown\"}},{\"string\":[\"{\\\\\"status\\\\\": \\\\\"ERROR\\\\\"}\"],\"processed\":{\"intent\":\"unknown\"}},{\"string\":[\"{\\\\\"status\\\\\": \\\\\"ERROR\\\\\"}\"],\"processed\":{\"intent\":\"unknown\"}},{\"string\":[\"{\\\\\"status\\\\\": \\\\\"ERROR\\\\\"}\"],\"processed\":{\"intent\":\"unknown\"}},{\"string\":[\"{\\\\\"status\\\\\": \\\\\"ERROR\\\\\"}\"],\"processed\":{\"intent\":\"unknown\"}},{\"string\":[\"{\\\\\"status\\\\\": \\\\\"ERROR\\\\\"}\"],\"processed\":{\"intent\":\"unknown\"}},{\"string\":[\"{\\\\\"status\\\\\": \\\\\"ERROR\\\\\"}\"],\"processed\":{\"intent\":\"unknown\"}},{\"string\":[\"{\\\\\"status\\\\\": \\\\\"ERROR\\\\\"}\"],\"processed\":{\"intent\":\"unknown\"}},{\"string\":[\"{\\\\\"status\\\\\": \\\\\"ERROR\\\\\"}\"],\"processed\":{\"intent\":\"unknown\"}},{\"string\":[\"{\\\\\"status\\\\\": \\\\\"ERROR\\\\\"}\"],\"processed\":{\"intent\":\"unknown\"}},{\"string\":[\"{\\\\\"status\\\\\": \\\\\"ERROR\\\\\"}\"],\"processed\":{\"intent\":\"unknown\"}},{\"string\":[\"{\\\\\"status\\\\\": \\\\\"ERROR\\\\\"}\"],\"processed\":{\"intent\":\"unknown\"}},{\"string\":[\"{\\\\\"status\\\\\": \\\\\"ERROR\\\\\"}\"],\"processed\":{\"intent\":\"unknown\"}},{\"string\":[\"{\\\\\"status\\\\\": \\\\\"ERROR\\\\\"}\"],\"processed\":{\"intent\":\"unknown\"}},{\"string\":[\"{\\\\\"status\\\\\": \\\\\"ERROR\\\\\"}\"],\"processed\":{\"intent\":\"unknown\"}},{\"string\":[\"{\\\\\"status\\\\\": \\\\\"ERROR\\\\\"}\"],\"processed\":{\"intent\":\"unknown\"}},{\"string\":[\"{\\\\\"status\\\\\": \\\\\"ERROR\\\\\"}\"],\"processed\":{\"intent\":\"unknown\"}},{\"string\":[\"{\\\\\"status\\\\\": \\\\\"ERROR\\\\\"}\"],\"processed\":{\"intent\":\"unknown\"}},{\"string\":[\"{\\\\\"status\\\\\": \\\\\"ERROR\\\\\"}\"],\"processed\":{\"intent\":\"unknown\"}},{\"string\":[\"{\\\\\"status\\\\\": \\\\\"ERROR\\\\\"}\"],\"processed\":{\"intent\":\"unknown\"}},{\"string\":[\"{\\\\\"status\\\\\": \\\\\"ERROR\\\\\"}\"],\"processed\":{\"intent\":\"unknown\"}},{\"string\":[\"{\\\\\"status\\\\\": \\\\\"ERROR\\\\\"}\"],\"processed\":{\"intent\":\"unknown\"}},{\"string\":[\"{\\\\\"status\\\\\": \\\\\"ERROR\\\\\"}\"],\"processed\":{\"intent\":\"unknown\"}},{\"string\":[\"{\\\\\"status\\\\\": \\\\\"ERROR\\\\\"}\"],\"processed\":{\"intent\":\"unknown\"}},{\"string\":[\"{\\\\\"status\\\\\": \\\\\"ERROR\\\\\"}\"],\"processed\":{\"intent\":\"unknown\"}},{\"string\":[\"{\\\\\"status\\\\\": \\\\\"ERROR\\\\\"}\"],\"processed\":{\"intent\":\"unknown\"}},{\"string\":[\"{\\\\\"status\\\\\": \\\\\"ERROR\\\\\"}\"],\"processed\":{\"intent\":\"unknown\"}},{\"string\":[\"{\\\\\"status\\\\\": \\\\\"ERROR\\\\\"}\"],\"processed\":{\"intent\":\"unknown\"}},{\"string\":[\"{\\\\\"status\\\\\": \\\\\"ERROR\\\\\"}\"],\"processed\":{\"intent\":\"unknown\"}},{\"string\":[\"{\\\\\"status\\\\\": \\\\\"ERROR\\\\\"}\"],\"processed\":{\"intent\":\"unknown\"}},{\"string\":[\"{\\\\\"status\\\\\": \\\\\"ERROR\\\\\"}\"],\"processed\":{\"intent\":\"unknown\"}},{\"string\":[\"{\\\\\"status\\\\\": \\\\\"ERROR\\\\\"}\"],\"processed\":{\"intent\":\"unknown\"}},{\"string\":[\"{\\\\\"status\\\\\": \\\\\"ERROR\\\\\"}\"],\"processed\":{\"intent\":\"unknown\"}},{\"string\":[\"{\\\\\"status\\\\\": \\\\\"ERROR\\\\\"}\"],\"processed\":{\"intent\":\"unknown\"}},{\"string\":[\"{\\\\\"status\\\\\": \\\\\"ERROR\\\\\"}\"],\"processed\":{\"intent\":\"unknown\"}},{\"string\":[\"{\\\\\"status\\\\\": \\\\\"ERROR\\\\\"}\"],\"processed\":{\"intent\":\"unknown\"}},{\"string\":[\"{\\\\\"status\\\\\": \\\\\"ERROR\\\\\"}\"],\"processed\":{\"intent\":\"unknown\"}},{\"string\":[\"{\\\\\"status\\\\\": \\\\\"ERROR\\\\\"}\"],\"processed\":{\"intent\":\"unknown\"}},{\"string\":[\"{\\\\\"status\\\\\": \\\\\"ERROR\\\\\"}\"],\"processed\":{\"intent\":\"unknown\"}},{\"string\":[\"{\\\\\"status\\\\\": \\\\\"ERROR\\\\\"}\"],\"processed\":{\"intent\":\"unknown\"}},{\"string\":[\"{\\\\\"status\\\\\": \\\\\"ERROR\\\\\"}\"],\"processed\":{\"intent\":\"unknown\"}},{\"string\":[\"{\\\\\"status\\\\\": \\\\\"ERROR\\\\\"}\"],\"processed\":{\"intent\":\"unknown\"}},{\"string\":[\"{\\\\\"status\\\\\": \\\\\"ERROR\\\\\"}\"],\"processed\":{\"intent\":\"unknown\"}},{\"string\":[\"{\\\\\"status\\\\\": \\\\\"ERROR\\\\\"}\"],\"processed\":{\"intent\":\"unknown\"}},{\"string\":[\"{\\\\\"status\\\\\": \\\\\"ERROR\\\\\"}\"],\"processed\":{\"intent\":\"unknown\"}},{\"string\":[\"{\\\\\"status\\\\\": \\\\\"ERROR\\\\\"}\"],\"processed\":{\"intent\":\"unknown\"}},{\"string\":[\"{\\\\\"status\\\\\": \\\\\"ERROR\\\\\"}\"],\"processed\":{\"intent\":\"unknown\"}},{\"string\":[\"{\\\\\"status\\\\\": \\\\\"ERROR\\\\\"}\"],\"processed\":{\"intent\":\"unknown\"}},{\"string\":[\"{\\\\\"status\\\\\": \\\\\"ERROR\\\\\"}\"],\"processed\":{\"intent\":\"unknown\"}},{\"string\":[\"{\\\\\"status\\\\\": \\\\\"ERROR\\\\\"}\"],\"processed\":{\"intent\":\"unknown\"}},{\"string\":[\"{\\\\\"status\\\\\": \\\\\"ERROR\\\\\"}\"],\"processed\":{\"intent\":\"unknown\"}},{\"string\":[\"{\\\\\"status\\\\\": \\\\\"ERROR\\\\\"}\"],\"processed\":{\"intent\":\"unknown\"}},{\"string\":[\"{\\\\\"status\\\\\": \\\\\"ERROR\\\\\"}\"],\"processed\":{\"intent\":\"unknown\"}},{\"string\":[\"{\\\\\"status\\\\\": \\\\\"ERROR\\\\\"}\"],\"processed\":{\"intent\":\"unknown\"}},{\"string\":[\"{\\\\\"status\\\\\": \\\\\"ERROR\\\\\"}\"],\"processed\":{\"intent\":\"unknown\"}},{\"string\":[\"{\\\\\"status\\\\\": \\\\\"ERROR\\\\\"}\"],\"processed\":{\"intent\":\"unknown\"}},{\"string\":[\"{\\\\\"status\\\\\": \\\\\"ERROR\\\\\"}\"],\"processed\":{\"intent\":\"unknown\"}},{\"string\":[\"{\\\\\"status\\\\\": \\\\\"ERROR\\\\\"}\"],\"processed\":{\"intent\":\"unknown\"}},{\"string\":[\"{\\\\\"status\\\\\": \\\\\"ERROR\\\\\"}\"],\"processed\":{\"intent\":\"unknown\"}},{\"string\":[\"{\\\\\"status\\\\\": \\\\\"ERROR\\\\\"}\"],\"processed\":{\"intent\":\"unknown\"}},{\"string\":[\"{\\\\\"status\\\\\": \\\\\"ERROR\\\\\"}\"],\"processed\":{\"intent\":\"unknown\"}},{\"string\":[\"{\\\\\"status\\\\\": \\\\\"ERROR\\\\\"}\"],\"processed\":{\"intent\":\"unknown\"}},{\"string\":[\"{\\\\\"status\\\\\": \\\\\"ERROR\\\\\"}\"],\"processed\":{\"intent\":\"unknown\"}},{\"string\":[\"{\\\\\"status\\\\\": \\\\\"ERROR\\\\\"}\"],\"processed\":{\"intent\":\"unknown\"}},{\"string\":[\"{\\\\\"status\\\\\": \\\\\"ERROR\\\\\"}\"],\"processed\":{\"intent\":\"unknown\"}},{\"string\":[\"{\\\\\"status\\\\\": \\\\\"ERROR\\\\\"}\"],\"processed\":{\"intent\":\"unknown\"}},{\"string\":[\"{\\\\\"status\\\\\": \\\\\"ERROR\\\\\"}\"],\"processed\":{\"intent\":\"unknown\"}},{\"string\":[\"{\\\\\"status\\\\\": \\\\\"ERROR\\\\\"}\"],\"processed\":{\"intent\":\"unknown\"}},{\"string\":[\"{\\\\\"status\\\\\": \\\\\"ERROR\\\\\"}\"],\"processed\":{\"intent\":\"unknown\"}},{\"string\":[\"{\\\\\"status\\\\\": \\\\\"ERROR\\\\\"}\"],\"processed\":{\"intent\":\"unknown\"}},{\"string\":[\"{\\\\\"status\\\\\": \\\\\"ERROR\\\\\"}\"],\"processed\":{\"intent\":\"unknown\"}},{\"string\":[\"{\\\\\"status\\\\\": \\\\\"ERROR\\\\\"}\"],\"processed\":{\"intent\":\"unknown\"}},{\"string\":[\"{\\\\\"status\\\\\": \\\\\"ERROR\\\\\"}\"],\"processed\":{\"intent\":\"unknown\"}},{\"string\":[\"{\\\\\"status\\\\\": \\\\\"ERROR\\\\\"}\"],\"processed\":{\"intent\":\"unknown\"}},{\"string\":[\"{\\\\\"status\\\\\": \\\\\"ERROR\\\\\"}\"],\"processed\":{\"intent\":\"unknown\"}},{\"string\":[\"{\\\\\"status\\\\\": \\\\\"ERROR\\\\\"}\"],\"processed\":{\"intent\":\"unknown\"}},{\"string\":[\"{\\\\\"status\\\\\": \\\\\"ERROR\\\\\"}\"],\"processed\":{\"intent\":\"unknown\"}},{\"string\":[\"{\\\\\"status\\\\\": \\\\\"ERROR\\\\\"}\"],\"processed\":{\"intent\":\"unknown\"}},{\"string\":[\"{\\\\\"status\\\\\": \\\\\"ERROR\\\\\"}\"],\"processed\":{\"intent\":\"unknown\"}},{\"string\":[\"{\\\\\"status\\\\\": \\\\\"ERROR\\\\\"}\"],\"processed\":{\"intent\":\"unknown\"}},{\"string\":[\"{\\\\\"status\\\\\": \\\\\"ERROR\\\\\"}\"],\"processed\":{\"intent\":\"unknown\"}},{\"string\":[\"{\\\\\"status\\\\\": \\\\\"ERROR\\\\\"}\"],\"processed\":{\"intent\":\"unknown\"}},{\"string\":[\"{\\\\\"status\\\\\": \\\\\"ERROR\\\\\"}\"],\"processed\":{\"intent\":\"unknown\"}},{\"string\":[\"{\\\\\"status\\\\\": \\\\\"ERROR\\\\\"}\"],\"processed\":{\"intent\":\"unknown\"}},{\"string\":[\"{\\\\\"status\\\\\": \\\\\"ERROR\\\\\"}\"],\"processed\":{\"intent\":\"unknown\"}},{\"string\":[\"{\\\\\"status\\\\\": \\\\\"ERROR\\\\\"}\"],\"processed\":{\"intent\":\"unknown\"}},{\"string\":[\"{\\\\\"status\\\\\": \\\\\"ERROR\\\\\"}\"],\"processed\":{\"intent\":\"unknown\"}},{\"string\":[\"{\\\\\"status\\\\\": \\\\\"ERROR\\\\\"}\"],\"processed\":{\"intent\":\"unknown\"}},{\"string\":[\"{\\\\\"status\\\\\": \\\\\"ERROR\\\\\"}\"],\"processed\":{\"intent\":\"unknown\"}},{\"string\":[\"{\\\\\"status\\\\\": \\\\\"ERROR\\\\\"}\"],\"processed\":{\"intent\":\"unknown\"}},{\"string\":[\"{\\\\\"status\\\\\": \\\\\"ERROR\\\\\"}\"],\"processed\":{\"intent\":\"unknown\"}},{\"string\":[\"{\\\\\"status\\\\\": \\\\\"ERROR\\\\\"}\"],\"processed\":{\"intent\":\"unknown\"}},{\"string\":[\"{\\\\\"status\\\\\": \\\\\"ERROR\\\\\"}\"],\"processed\":{\"intent\":\"unknown\"}},{\"string\":[\"{\\\\\"status\\\\\": \\\\\"ERROR\\\\\"}\"],\"processed\":{\"intent\":\"unknown\"}},{\"string\":[\"{\\\\\"status\\\\\": \\\\\"ERROR\\\\\"}\"],\"processed\":{\"intent\":\"unknown\"}},{\"string\":[\"{\\\\\"status\\\\\": \\\\\"ERROR\\\\\"}\"],\"processed\":{\"intent\":\"unknown\"}},{\"string\":[\"{\\\\\"status\\\\\": \\\\\"ERROR\\\\\"}\"],\"processed\":{\"intent\":\"unknown\"}},{\"string\":[\"{\\\\\"status\\\\\": \\\\\"ERROR\\\\\"}\"],\"processed\":{\"intent\":\"unknown\"}},{\"string\":[\"{\\\\\"status\\\\\": \\\\\"ERROR\\\\\"}\"],\"processed\":{\"intent\":\"unknown\"}},{\"string\":[\"{\\\\\"status\\\\\": \\\\\"ERROR\\\\\"}\"],\"processed\":{\"intent\":\"unknown\"}},{\"string\":[\"{\\\\\"status\\\\\": \\\\\"ERROR\\\\\"}\"],\"processed\":{\"intent\":\"unknown\"}},{\"string\":[\"{\\\\\"status\\\\\": \\\\\"ERROR\\\\\"}\"],\"processed\":{\"intent\":\"unknown\"}},{\"string\":[\"{\\\\\"status\\\\\": \\\\\"ERROR\\\\\"}\"],\"processed\":{\"intent\":\"unknown\"}},{\"string\":[\"{\\\\\"status\\\\\": \\\\\"ERROR\\\\\"}\"],\"processed\":{\"intent\":\"unknown\"}},{\"string\":[\"{\\\\\"status\\\\\": \\\\\"ERROR\\\\\"}\"],\"processed\":{\"intent\":\"unknown\"}},{\"string\":[\"{\\\\\"status\\\\\": \\\\\"ERROR\\\\\"}\"],\"processed\":{\"intent\":\"unknown\"}},{\"string\":[\"{\\\\\"status\\\\\": \\\\\"ERROR\\\\\"}\"],\"processed\":{\"intent\":\"unknown\"}},{\"string\":[\"{\\\\\"status\\\\\": \\\\\"ERROR\\\\\"}\"],\"processed\":{\"intent\":\"unknown\"}},{\"string\":[\"{\\\\\"status\\\\\": \\\\\"ERROR\\\\\"}\"],\"processed\":{\"intent\":\"unknown\"}},{\"string\":[\"{\\\\\"status\\\\\": \\\\\"ERROR\\\\\"}\"],\"processed\":{\"intent\":\"unknown\"}},{\"string\":[\"{\\\\\"status\\\\\": \\\\\"ERROR\\\\\"}\"],\"processed\":{\"intent\":\"unknown\"}},{\"string\":[\"{\\\\\"status\\\\\": \\\\\"ERROR\\\\\"}\"],\"processed\":{\"intent\":\"unknown\"}},{\"string\":[\"{\\\\\"status\\\\\": \\\\\"ERROR\\\\\"}\"],\"processed\":{\"intent\":\"unknown\"}},{\"string\":[\"{\\\\\"status\\\\\": \\\\\"ERROR\\\\\"}\"],\"processed\":{\"intent\":\"unknown\"}},{\"string\":[\"{\\\\\"status\\\\\": \\\\\"ERROR\\\\\"}\"],\"processed\":{\"intent\":\"unknown\"}},{\"string\":[\"{\\\\\"status\\\\\": \\\\\"ERROR\\\\\"}\"],\"processed\":{\"intent\":\"unknown\"}},{\"string\":[\"{\\\\\"status\\\\\": \\\\\"ERROR\\\\\"}\"],\"processed\":{\"intent\":\"unknown\"}},{\"string\":[\"{\\\\\"status\\\\\": \\\\\"ERROR\\\\\"}\"],\"processed\":{\"intent\":\"unknown\"}},{\"string\":[\"{\\\\\"status\\\\\": \\\\\"ERROR\\\\\"}\"],\"processed\":{\"intent\":\"unknown\"}},{\"string\":[\"{\\\\\"status\\\\\": \\\\\"ERROR\\\\\"}\"],\"processed\":{\"intent\":\"unknown\"}},{\"string\":[\"{\\\\\"status\\\\\": \\\\\"ERROR\\\\\"}\"],\"processed\":{\"intent\":\"unknown\"}},{\"string\":[\"{\\\\\"status\\\\\": \\\\\"ERROR\\\\\"}\"],\"processed\":{\"intent\":\"unknown\"}},{\"string\":[\"{\\\\\"status\\\\\": \\\\\"ERROR\\\\\"}\"],\"processed\":{\"intent\":\"unknown\"}},{\"string\":[\"{\\\\\"status\\\\\": \\\\\"ERROR\\\\\"}\"],\"processed\":{\"intent\":\"unknown\"}},{\"string\":[\"{\\\\\"status\\\\\": \\\\\"ERROR\\\\\"}\"],\"processed\":{\"intent\":\"unknown\"}},{\"string\":[\"{\\\\\"status\\\\\": \\\\\"ERROR\\\\\"}\"],\"processed\":{\"intent\":\"unknown\"}},{\"string\":[\"{\\\\\"status\\\\\": \\\\\"ERROR\\\\\"}\"],\"processed\":{\"intent\":\"unknown\"}},{\"string\":[\"{\\\\\"status\\\\\": \\\\\"ERROR\\\\\"}\"],\"processed\":{\"intent\":\"unknown\"}},{\"string\":[\"{\\\\\"status\\\\\": \\\\\"ERROR\\\\\"}\"],\"processed\":{\"intent\":\"unknown\"}},{\"string\":[\"{\\\\\"status\\\\\": \\\\\"ERROR\\\\\"}\"],\"processed\":{\"intent\":\"unknown\"}},{\"string\":[\"{\\\\\"status\\\\\": \\\\\"ERROR\\\\\"}\"],\"processed\":{\"intent\":\"unknown\"}},{\"string\":[\"{\\\\\"status\\\\\": \\\\\"ERROR\\\\\"}\"],\"processed\":{\"intent\":\"unknown\"}},{\"string\":[\"{\\\\\"status\\\\\": \\\\\"ERROR\\\\\"}\"],\"processed\":{\"intent\":\"unknown\"}},{\"string\":[\"{\\\\\"status\\\\\": \\\\\"ERROR\\\\\"}\"],\"processed\":{\"intent\":\"unknown\"}},{\"string\":[\"{\\\\\"status\\\\\": \\\\\"ERROR\\\\\"}\"],\"processed\":{\"intent\":\"unknown\"}},{\"string\":[\"{\\\\\"status\\\\\": \\\\\"ERROR\\\\\"}\"],\"processed\":{\"intent\":\"unknown\"}},{\"string\":[\"{\\\\\"status\\\\\": \\\\\"ERROR\\\\\"}\"],\"processed\":{\"intent\":\"unknown\"}},{\"string\":[\"{\\\\\"status\\\\\": \\\\\"ERROR\\\\\"}\"],\"processed\":{\"intent\":\"unknown\"}},{\"string\":[\"{\\\\\"status\\\\\": \\\\\"ERROR\\\\\"}\"],\"processed\":{\"intent\":\"unknown\"}},{\"string\":[\"{\\\\\"status\\\\\": \\\\\"ERROR\\\\\"}\"],\"processed\":{\"intent\":\"unknown\"}},{\"string\":[\"{\\\\\"status\\\\\": \\\\\"ERROR\\\\\"}\"],\"processed\":{\"intent\":\"unknown\"}},{\"string\":[\"{\\\\\"status\\\\\": \\\\\"ERROR\\\\\"}\"],\"processed\":{\"intent\":\"unknown\"}},{\"string\":[\"{\\\\\"status\\\\\": \\\\\"ERROR\\\\\"}\"],\"processed\":{\"intent\":\"unknown\"}},{\"string\":[\"{\\\\\"status\\\\\": \\\\\"ERROR\\\\\"}\"],\"processed\":{\"intent\":\"unknown\"}},{\"string\":[\"{\\\\\"status\\\\\": \\\\\"ERROR\\\\\"}\"],\"processed\":{\"intent\":\"unknown\"}},{\"string\":[\"{\\\\\"status\\\\\": \\\\\"ERROR\\\\\"}\"],\"processed\":{\"intent\":\"unknown\"}},{\"string\":[\"{\\\\\"status\\\\\": \\\\\"ERROR\\\\\"}\"],\"processed\":{\"intent\":\"unknown\"}},{\"string\":[\"{\\\\\"status\\\\\": \\\\\"ERROR\\\\\"}\"],\"processed\":{\"intent\":\"unknown\"}},{\"string\":[\"{\\\\\"status\\\\\": \\\\\"ERROR\\\\\"}\"],\"processed\":{\"intent\":\"unknown\"}},{\"string\":[\"{\\\\\"status\\\\\": \\\\\"ERROR\\\\\"}\"],\"processed\":{\"intent\":\"unknown\"}},{\"string\":[\"{\\\\\"status\\\\\": \\\\\"ERROR\\\\\"}\"],\"processed\":{\"intent\":\"unknown\"}},{\"string\":[\"{\\\\\"status\\\\\": \\\\\"ERROR\\\\\"}\"],\"processed\":{\"intent\":\"unknown\"}},{\"string\":[\"{\\\\\"status\\\\\": \\\\\"ERROR\\\\\"}\"],\"processed\":{\"intent\":\"unknown\"}}]}'"
      ]
     },
     "execution_count": 58,
     "metadata": {},
     "output_type": "execute_result"
    }
   ],
   "source": [
    "# text_input = df['text_cleaned_en'][i]\n",
    "# # print(text_input)\n",
    "\n",
    "# prompt = f\"\"\"\n",
    "# You are AI, a large language model trained by OpenAI. You answer as precisely as possible for each response.\n",
    "\n",
    "# You will be given a text, according to this text extract the address, phone number and list of their needs if there is any, write the response as json format. \\\n",
    "# Choose one or more intents from this list: ['Shelter', 'Hygiene/Toilet', 'Clothing', 'Rescue and Scream', 'Logistics', 'Health', 'Water', 'Loot', 'Food'] \\\n",
    "# write the needs in descending order.  You can output the needs list as [\"Alakasiz\"] if the tweet is unrelated to the earthquake disaster.\n",
    "# For example: \n",
    "# Text: Annemler Mazota ulaşmakta zorluk çekiyor benzin/ mazot sadece Antakya köprü başına geliyor ve hemen bitiyor yolda bildiğiniz tanker varsa şehrin diğer mahallelerinde de \\\n",
    "# mazota ihtiyaç var özellikle jeneratörler için çok elzem \\\n",
    "# Narlıca Mh, Fatih Cd, 308. Sk \\\n",
    "# 0537 607 2821\n",
    "# AI: {{\"address\": \"Narlıca Mh, Fatih Cd, 308. Sk\", \"phone\": \"0537 607 2821\", \"needs\": [\"Mazot\"], \"intent\": [\"Logistics\"]}}\n",
    "# Text: Hala ses geliyormuş Teyit edildi lütfen acil kurtarma ekibi\n",
    "# Output: {{\"address\": \"\", \"phone\": \"\", \"needs\": [\"kurtarma ekibi\"], \"intent\": [\"Rescue and Scream\"]}}\n",
    "# Text: {text_input}\n",
    "# AI:\n",
    "# \"\"\"\n",
    "\n",
    "data = {\"inputs\": tweet_list}\n",
    "\n",
    "headers = {\"Content-Type\": \"application/json\"}\n",
    "\n",
    "data = json.dumps(data)\n",
    "\n",
    "response = requests.post('http://align-3.csail.mit.edu:5000/intent-extractor', headers=headers, data=data)\n",
    "\n",
    "response.text\n"
   ]
  },
  {
   "cell_type": "code",
   "execution_count": null,
   "metadata": {},
   "outputs": [
    {
     "data": {
      "text/html": [
       "<div>\n",
       "<style scoped>\n",
       "    .dataframe tbody tr th:only-of-type {\n",
       "        vertical-align: middle;\n",
       "    }\n",
       "\n",
       "    .dataframe tbody tr th {\n",
       "        vertical-align: top;\n",
       "    }\n",
       "\n",
       "    .dataframe thead th {\n",
       "        text-align: right;\n",
       "    }\n",
       "</style>\n",
       "<table border=\"1\" class=\"dataframe\">\n",
       "  <thead>\n",
       "    <tr style=\"text-align: right;\">\n",
       "      <th></th>\n",
       "      <th>text</th>\n",
       "      <th>text_cleaned</th>\n",
       "      <th>labels</th>\n",
       "      <th>text_cleaned_en</th>\n",
       "      <th>prompt</th>\n",
       "      <th>prompt2</th>\n",
       "    </tr>\n",
       "  </thead>\n",
       "  <tbody>\n",
       "    <tr>\n",
       "      <th>0</th>\n",
       "      <td>@yagosabuncuoglu Abi acil Adıyaman' da görev yapan eniştemden haber geldi Adıyaman Üniversitesi yanına acil çadır ihtiyacı olduğunu söyledi</td>\n",
       "      <td>Abi acil Adıyaman' da görev yapan eniştemden haber geldi Adıyaman Üniversitesi yanına acil çadır ihtiyacı olduğunu söyledi</td>\n",
       "      <td>[Barinma]</td>\n",
       "      <td>@yagosabuncuoglu Abi acil Adiyaman' da gorev yapan enistemden haber geldi Adiyaman Universitesi yanina acil cadir ihtiyaci oldugunu soyledi</td>\n",
       "      <td>{\"output\":\"{\\n    \\\"address\\\": \\\"Adiyaman Universitesi yanina\\\",\\n    \\\"phone\\\": \\\"\\\",\\n    \\\"needs\\\": [\\\"cadir\\\"],\\n    \\\"intent\\\": [\\\"Shelter\\\"]\\n}\"}</td>\n",
       "      <td>{\"output\":\"{\\\"address\\\": \\\"Adiyaman Universitesi\\\", \\\"phone\\\": \\\"\\\", \\\"needs\\\": [\\\"cadir\\\"], \\\"intent\\\": [\\\"Shelter\\\"]}\"}</td>\n",
       "    </tr>\n",
       "    <tr>\n",
       "      <th>1</th>\n",
       "      <td>Maraş'tan Uşağa gelecek bir depremzede aile var. Uşak'ta kalacakları ev ayarlandı. 4 yetişkin 3 çocuk için uşak istikametine gelen çok acil bir araç arıyoruz. 05398639516#deprem #depremsondakika #AFADKahramanmaras</td>\n",
       "      <td>Maraş'tan Uşağa gelecek bir depremzede aile var. Uşak'ta kalacakları ev ayarlandı. 4 yetişkin 3 çocuk için uşak istikametine gelen çok acil bir araç arıyoruz. 05398639516#deprem #depremsondakika #AFADKahramanmaras</td>\n",
       "      <td>[Lojistik]</td>\n",
       "      <td>Maras'tan Usaga gelecek bir depremzede aile var. Usak'ta kalacaklari ev ayarlandi. 4 yetiskin 3 cocuk icin usak istikametine gelen cok acil bir arac ariyoruz. 05398639516#deprem #depremsondakika #AFADKahramanmaras</td>\n",
       "      <td>{\"output\":\"{\\n    \\\"address\\\": \\\"\\\",\\n    \\\"phone\\\": \\\"05398639516\\\",\\n    \\\"needs\\\": [\\\"arac\\\"],\\n    \\\"intent\\\": [\\\"Logistics\\\"]\\n}\"}</td>\n",
       "      <td>{\"output\":\"{\\\"address\\\": \\\"Maras'tan Usaga\\\", \\\"phone\\\": \\\"05398639516\\\", \\\"needs\\\": [\\\"Arac\\\", \\\"Ev\\\"], \\\"intent\\\": [\\\"Rescue and Scream\\\", \\\"Logistics\\\"]}\"}</td>\n",
       "    </tr>\n",
       "    <tr>\n",
       "      <th>2</th>\n",
       "      <td>\"Teyitli bilgi: Acil çadır ihtiyacı var! İki küçük çocuk, bir de yaşlı teyzemiz var. Teyzemiz ayağından ameliyatlı olduğu için kımıldayamıyor! Adres: Kahramanmaraş, Hasancıklı Mahallesi, Sokak 89001, No: 29 İletişim: İbrahim Şeker, 05363994944 #depremsondakika #deprem\"</td>\n",
       "      <td>\"Teyitli bilgi: Acil çadır ihtiyacı var! İki küçük çocuk, bir de yaşlı teyzemiz var. Teyzemiz ayağından ameliyatlı olduğu için kımıldayamıyor! Adres: Kahramanmaraş, Hasancıklı Mahallesi, Sokak 89001, No: 29 İletişim: İbrahim Şeker, 05363994944 #depremsondakika #deprem\"</td>\n",
       "      <td>[Barinma]</td>\n",
       "      <td>Teyitli bilgi: Acil cadir ihtiyaci var! Iki kucuk cocuk, bir de yasli teyzemiz var. Teyzemiz ayagindan ameliyatli oldugu icin kimildayamiyor! Adres: Kahramanmaras, Hasancikli Mahallesi, Sokak 89001, No: 29 Iletisim: Ibrahim Seker, 05363994944 #depremsondakika #deprem</td>\n",
       "      <td>{\"output\":\"{\\n    \\\"address\\\": \\\"Kahramanmaras, Hasancikli Mahallesi, Sokak 89001, No: 29\\\",\\n    \\\"phone\\\": \\\"05363994944\\\",\\n    \\\"needs\\\": [\\\"Cadir\\\", \\\"Kurtarma Ekibi\\\"],\\n    \\\"intent\\\": [\\\"Shelter\\\", \\\"Rescue and Scream\\\"]\\n}\"}</td>\n",
       "      <td>{\"output\":\"{\\\"address\\\": \\\"Kahramanmaras, Hasancikli Mahallesi, Sokak 89001, No: 29\\\", \\\"phone\\\": \\\"05363994944\\\", \\\"needs\\\": [\\\"Cadir\\\", \\\"Kurtarma Ekibi\\\"], \\\"intent\\\": [\\\"Shelter\\\", \\\"Rescue and Scream\\\"]}\"}</td>\n",
       "    </tr>\n",
       "    <tr>\n",
       "      <th>3</th>\n",
       "      <td>paketleme için insan gücüne ihtiyaç duyulan yer bilgileri için; #deprem t.me/depreminsan</td>\n",
       "      <td>paketleme için insan gücüne ihtiyaç duyulan yer bilgileri için; #deprem</td>\n",
       "      <td>[Alakasiz]</td>\n",
       "      <td>paketleme icin insan gucune ihtiyac duyulan yer bilgileri icin; #deprem t.me/depreminsan</td>\n",
       "      <td>{\"output\":\"{\\n    \\\"address\\\": \\\"\\\",\\n    \\\"phone\\\": \\\"\\\",\\n    \\\"needs\\\": [\\\"insan gücü\\\"],\\n    \\\"intent\\\": [\\\"Logistics\\\"]\\n}\"}</td>\n",
       "      <td>{\"output\":\"{\\\"address\\\": \\\"\\\", \\\"phone\\\": \\\"\\\", \\\"needs\\\": [\\\"paketleme insan gücü\\\"], \\\"intent\\\": [\\\"Logistics\\\"]}\"}</td>\n",
       "    </tr>\n",
       "    <tr>\n",
       "      <th>4</th>\n",
       "      <td>Bu devlete çok ihanet içindesiniz  yapmayın bir gün bu devlet size de lazım olur ülkemiz zor durumda Zor durumdan. Faydalanmak kimlerin işidir iyi bilirsiniz söylememe gerek yok...</td>\n",
       "      <td>Bu devlete çok ihanet içindesiniz yapmayın bir gün bu devlet size de lazım olur ülkemiz zor durumda Zor durumdan. Faydalanmak kimlerin işidir iyi bilirsiniz söylememe gerek yok...</td>\n",
       "      <td>[Alakasiz]</td>\n",
       "      <td>Bu devlete cok ihanet icindesiniz  yapmayin bir gun bu devlet size de lazim olur ulkemiz zor durumda Zor durumdan. Faydalanmak kimlerin isidir iyi bilirsiniz soylememe gerek yok...</td>\n",
       "      <td>{\"output\":\"{\\n    \\\"address\\\": \\\"\\\",\\n    \\\"phone\\\": \\\"\\\",\\n    \\\"needs\\\": [\\\"Alakasiz\\\"],\\n    \\\"intent\\\": [\\\"Alakasiz\\\"]\\n}\"}</td>\n",
       "      <td>{\"output\":\"{\\\"address\\\": \\\"\\\", \\\"phone\\\": \\\"\\\", \\\"needs\\\": [\\\"Alakasız\\\"], \\\"intent\\\": [\\\"Alakasız\\\"]}\"}</td>\n",
       "    </tr>\n",
       "  </tbody>\n",
       "</table>\n",
       "</div>"
      ],
      "text/plain": [
       "                                                                                                                                                                                                                                                                            text  \\\n",
       "0                                                                                                                                    @yagosabuncuoglu Abi acil Adıyaman' da görev yapan eniştemden haber geldi Adıyaman Üniversitesi yanına acil çadır ihtiyacı olduğunu söyledi   \n",
       "1                                                          Maraş'tan Uşağa gelecek bir depremzede aile var. Uşak'ta kalacakları ev ayarlandı. 4 yetişkin 3 çocuk için uşak istikametine gelen çok acil bir araç arıyoruz. 05398639516#deprem #depremsondakika #AFADKahramanmaras   \n",
       "2  \"Teyitli bilgi: Acil çadır ihtiyacı var! İki küçük çocuk, bir de yaşlı teyzemiz var. Teyzemiz ayağından ameliyatlı olduğu için kımıldayamıyor! Adres: Kahramanmaraş, Hasancıklı Mahallesi, Sokak 89001, No: 29 İletişim: İbrahim Şeker, 05363994944 #depremsondakika #deprem\"   \n",
       "3                                                                                                                                                                                       paketleme için insan gücüne ihtiyaç duyulan yer bilgileri için; #deprem t.me/depreminsan   \n",
       "4                                                                                           Bu devlete çok ihanet içindesiniz  yapmayın bir gün bu devlet size de lazım olur ülkemiz zor durumda Zor durumdan. Faydalanmak kimlerin işidir iyi bilirsiniz söylememe gerek yok...   \n",
       "\n",
       "                                                                                                                                                                                                                                                                    text_cleaned  \\\n",
       "0                                                                                                                                                     Abi acil Adıyaman' da görev yapan eniştemden haber geldi Adıyaman Üniversitesi yanına acil çadır ihtiyacı olduğunu söyledi   \n",
       "1                                                          Maraş'tan Uşağa gelecek bir depremzede aile var. Uşak'ta kalacakları ev ayarlandı. 4 yetişkin 3 çocuk için uşak istikametine gelen çok acil bir araç arıyoruz. 05398639516#deprem #depremsondakika #AFADKahramanmaras   \n",
       "2  \"Teyitli bilgi: Acil çadır ihtiyacı var! İki küçük çocuk, bir de yaşlı teyzemiz var. Teyzemiz ayağından ameliyatlı olduğu için kımıldayamıyor! Adres: Kahramanmaraş, Hasancıklı Mahallesi, Sokak 89001, No: 29 İletişim: İbrahim Şeker, 05363994944 #depremsondakika #deprem\"   \n",
       "3                                                                                                                                                                                                        paketleme için insan gücüne ihtiyaç duyulan yer bilgileri için; #deprem   \n",
       "4                                                                                            Bu devlete çok ihanet içindesiniz yapmayın bir gün bu devlet size de lazım olur ülkemiz zor durumda Zor durumdan. Faydalanmak kimlerin işidir iyi bilirsiniz söylememe gerek yok...   \n",
       "\n",
       "       labels  \\\n",
       "0   [Barinma]   \n",
       "1  [Lojistik]   \n",
       "2   [Barinma]   \n",
       "3  [Alakasiz]   \n",
       "4  [Alakasiz]   \n",
       "\n",
       "                                                                                                                                                                                                                                                               text_cleaned_en  \\\n",
       "0                                                                                                                                  @yagosabuncuoglu Abi acil Adiyaman' da gorev yapan enistemden haber geldi Adiyaman Universitesi yanina acil cadir ihtiyaci oldugunu soyledi   \n",
       "1                                                        Maras'tan Usaga gelecek bir depremzede aile var. Usak'ta kalacaklari ev ayarlandi. 4 yetiskin 3 cocuk icin usak istikametine gelen cok acil bir arac ariyoruz. 05398639516#deprem #depremsondakika #AFADKahramanmaras   \n",
       "2  Teyitli bilgi: Acil cadir ihtiyaci var! Iki kucuk cocuk, bir de yasli teyzemiz var. Teyzemiz ayagindan ameliyatli oldugu icin kimildayamiyor! Adres: Kahramanmaras, Hasancikli Mahallesi, Sokak 89001, No: 29 Iletisim: Ibrahim Seker, 05363994944 #depremsondakika #deprem   \n",
       "3                                                                                                                                                                                     paketleme icin insan gucune ihtiyac duyulan yer bilgileri icin; #deprem t.me/depreminsan   \n",
       "4                                                                                         Bu devlete cok ihanet icindesiniz  yapmayin bir gun bu devlet size de lazim olur ulkemiz zor durumda Zor durumdan. Faydalanmak kimlerin isidir iyi bilirsiniz soylememe gerek yok...   \n",
       "\n",
       "                                                                                                                                                                                                                                      prompt  \\\n",
       "0                                                                                    {\"output\":\"{\\n    \\\"address\\\": \\\"Adiyaman Universitesi yanina\\\",\\n    \\\"phone\\\": \\\"\\\",\\n    \\\"needs\\\": [\\\"cadir\\\"],\\n    \\\"intent\\\": [\\\"Shelter\\\"]\\n}\"}   \n",
       "1                                                                                                    {\"output\":\"{\\n    \\\"address\\\": \\\"\\\",\\n    \\\"phone\\\": \\\"05398639516\\\",\\n    \\\"needs\\\": [\\\"arac\\\"],\\n    \\\"intent\\\": [\\\"Logistics\\\"]\\n}\"}   \n",
       "2  {\"output\":\"{\\n    \\\"address\\\": \\\"Kahramanmaras, Hasancikli Mahallesi, Sokak 89001, No: 29\\\",\\n    \\\"phone\\\": \\\"05363994944\\\",\\n    \\\"needs\\\": [\\\"Cadir\\\", \\\"Kurtarma Ekibi\\\"],\\n    \\\"intent\\\": [\\\"Shelter\\\", \\\"Rescue and Scream\\\"]\\n}\"}   \n",
       "3                                                                                                         {\"output\":\"{\\n    \\\"address\\\": \\\"\\\",\\n    \\\"phone\\\": \\\"\\\",\\n    \\\"needs\\\": [\\\"insan gücü\\\"],\\n    \\\"intent\\\": [\\\"Logistics\\\"]\\n}\"}   \n",
       "4                                                                                                            {\"output\":\"{\\n    \\\"address\\\": \\\"\\\",\\n    \\\"phone\\\": \\\"\\\",\\n    \\\"needs\\\": [\\\"Alakasiz\\\"],\\n    \\\"intent\\\": [\\\"Alakasiz\\\"]\\n}\"}   \n",
       "\n",
       "                                                                                                                                                                                                              prompt2  \n",
       "0                                                                                           {\"output\":\"{\\\"address\\\": \\\"Adiyaman Universitesi\\\", \\\"phone\\\": \\\"\\\", \\\"needs\\\": [\\\"cadir\\\"], \\\"intent\\\": [\\\"Shelter\\\"]}\"}  \n",
       "1                                                      {\"output\":\"{\\\"address\\\": \\\"Maras'tan Usaga\\\", \\\"phone\\\": \\\"05398639516\\\", \\\"needs\\\": [\\\"Arac\\\", \\\"Ev\\\"], \\\"intent\\\": [\\\"Rescue and Scream\\\", \\\"Logistics\\\"]}\"}  \n",
       "2  {\"output\":\"{\\\"address\\\": \\\"Kahramanmaras, Hasancikli Mahallesi, Sokak 89001, No: 29\\\", \\\"phone\\\": \\\"05363994944\\\", \\\"needs\\\": [\\\"Cadir\\\", \\\"Kurtarma Ekibi\\\"], \\\"intent\\\": [\\\"Shelter\\\", \\\"Rescue and Scream\\\"]}\"}  \n",
       "3                                                                                               {\"output\":\"{\\\"address\\\": \\\"\\\", \\\"phone\\\": \\\"\\\", \\\"needs\\\": [\\\"paketleme insan gücü\\\"], \\\"intent\\\": [\\\"Logistics\\\"]}\"}  \n",
       "4                                                                                                            {\"output\":\"{\\\"address\\\": \\\"\\\", \\\"phone\\\": \\\"\\\", \\\"needs\\\": [\\\"Alakasız\\\"], \\\"intent\\\": [\\\"Alakasız\\\"]}\"}  "
      ]
     },
     "execution_count": 51,
     "metadata": {},
     "output_type": "execute_result"
    }
   ],
   "source": [
    "diff = df[df['prompt'] != df['prompt2']].head()\n",
    "diff[['labels', 'text_cleaned_en', 'prompt', 'prompt2']]"
   ]
  },
  {
   "cell_type": "code",
   "execution_count": 52,
   "metadata": {},
   "outputs": [],
   "source": [
    "# df.head(50)"
   ]
  }
 ],
 "metadata": {
  "kernelspec": {
   "display_name": "intent",
   "language": "python",
   "name": "python3"
  },
  "language_info": {
   "codemirror_mode": {
    "name": "ipython",
    "version": 3
   },
   "file_extension": ".py",
   "mimetype": "text/x-python",
   "name": "python",
   "nbconvert_exporter": "python",
   "pygments_lexer": "ipython3",
   "version": "3.11.0"
  },
  "orig_nbformat": 4,
  "vscode": {
   "interpreter": {
    "hash": "b353a7e71a78195eb0766b53ceee241ada1ebce7c533a715165e5b870a9a7619"
   }
  }
 },
 "nbformat": 4,
 "nbformat_minor": 2
}
