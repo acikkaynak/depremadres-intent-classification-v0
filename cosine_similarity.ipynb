{
  "nbformat": 4,
  "nbformat_minor": 0,
  "metadata": {
    "colab": {
      "provenance": []
    },
    "kernelspec": {
      "name": "python3",
      "display_name": "Python 3"
    },
    "language_info": {
      "name": "python"
    }
  },
  "cells": [
    {
      "cell_type": "code",
      "execution_count": 102,
      "metadata": {
        "colab": {
          "base_uri": "https://localhost:8080/"
        },
        "id": "xH1Qgl9W4pAU",
        "outputId": "0ed7e885-99d1-4ed5-eeec-f773ba6bc5fb"
      },
      "outputs": [
        {
          "output_type": "stream",
          "name": "stderr",
          "text": [
            "[nltk_data] Downloading package stopwords to /root/nltk_data...\n",
            "[nltk_data]   Package stopwords is already up-to-date!\n",
            "[nltk_data] Downloading package punkt to /root/nltk_data...\n",
            "[nltk_data]   Package punkt is already up-to-date!\n",
            "[nltk_data] Downloading package averaged_perceptron_tagger to\n",
            "[nltk_data]     /root/nltk_data...\n",
            "[nltk_data]   Package averaged_perceptron_tagger is already up-to-\n",
            "[nltk_data]       date!\n",
            "[nltk_data] Downloading package wordnet to /root/nltk_data...\n",
            "[nltk_data]   Package wordnet is already up-to-date!\n"
          ]
        }
      ],
      "source": [
        "import pandas as pd \n",
        "import numpy as np\n",
        "import math\n",
        "from typing import Dict, Tuple, Set, Optional, List, Union\n",
        "\n",
        "import nltk\n",
        "\n",
        "nltk.download('stopwords')\n",
        "\n",
        "from nltk.corpus import stopwords\n",
        "from nltk.tokenize import word_tokenize\n",
        "from nltk import ngrams\n",
        "\n",
        "#for computing cosine similarity\n",
        "from collections import Counter\n",
        "\n",
        "#for text pre-processing\n",
        "import re, string\n",
        "\n",
        "from nltk.stem import SnowballStemmer\n",
        "from nltk.corpus import wordnet\n",
        "from nltk.stem import WordNetLemmatizer\n",
        "nltk.download('punkt')\n",
        "nltk.download('averaged_perceptron_tagger')\n",
        "nltk.download('wordnet')\n",
        "\n",
        "#for model-building\n",
        "from sklearn.model_selection import train_test_split\n",
        "from sklearn.linear_model import LogisticRegression\n",
        "from sklearn.naive_bayes import MultinomialNB\n",
        "from sklearn.metrics import classification_report, f1_score, accuracy_score, confusion_matrix\n",
        "from sklearn.metrics import roc_curve, auc, roc_auc_score\n",
        "\n",
        "# bag of words\n",
        "from sklearn.feature_extraction.text import TfidfVectorizer\n",
        "from sklearn.feature_extraction.text import CountVectorizer\n",
        "\n",
        "#for word embedding\n",
        "import gensim\n",
        "from gensim.models import Word2Vec\n",
        "\n",
        "#plotting data\n",
        "from sklearn.decomposition import PCA\n",
        "import matplotlib.pyplot as plt"
      ]
    },
    {
      "cell_type": "code",
      "source": [
        "url = 'https://raw.githubusercontent.com/acikkaynak/depremadres-intent-classification-v0/main/data/8_9_Feb_deprem.csv'\n",
        "data = pd.read_csv(url, index_col = 1)\n",
        "\n",
        "url2 = 'https://raw.githubusercontent.com/acikkaynak/depremadres-intent-classification-v0/main/intent-classification-v0/intent_config/GIYSI.txt'\n",
        "giysi_data = pd.read_csv(url2, header = None)\n",
        "\n",
        "url3 = 'https://raw.githubusercontent.com/acikkaynak/depremadres-intent-classification-v0/main/intent-classification-v0/intent_config/KURTARMA.txt'\n",
        "kurtarma_data = pd.read_csv(url3, header = None)\n",
        "\n",
        "url4 = 'https://raw.githubusercontent.com/acikkaynak/depremadres-intent-classification-v0/main/intent-classification-v0/intent_config/YEMEK-SU.txt'\n",
        "yemek_data = pd.read_csv(url4, header = None)"
      ],
      "metadata": {
        "id": "UmJhSL2X4ypx"
      },
      "execution_count": 103,
      "outputs": []
    },
    {
      "cell_type": "code",
      "source": [
        "#store all the txt. files in lists\n",
        "giysi_list = giysi_data.iloc[:,0].tolist()\n",
        "kurtarma_list = kurtarma_data.iloc[:,0].tolist()\n",
        "yemek_list = yemek_data.iloc[:,0].tolist()"
      ],
      "metadata": {
        "id": "RpkA9iAzQzEz"
      },
      "execution_count": 104,
      "outputs": []
    },
    {
      "cell_type": "code",
      "source": [
        "# store full_text column in a list\n",
        "tweet_list = data['full_text'].tolist()"
      ],
      "metadata": {
        "id": "GWCYJ02V7vw0"
      },
      "execution_count": 105,
      "outputs": []
    },
    {
      "cell_type": "code",
      "source": [
        "# preprocess the text to delete URLs and tagged account from full_text column\n",
        "def preprocess(text_list):\n",
        "    processed_list = []\n",
        "    for text in text_list:\n",
        "        text = re.sub(r\"http\\S+\", \"\", text)\n",
        "        text = re.sub(r\"@\\S+\", \"\", text)\n",
        "        #text = re.sub(r\"#\\S+\", \"\", text)\n",
        "        #text = re.sub(r\"\\n\", \" \", text)\n",
        "\n",
        "        processed_list.append(text)\n",
        "    return processed_list"
      ],
      "metadata": {
        "id": "tBxLBjNE_Qs8"
      },
      "execution_count": 106,
      "outputs": []
    },
    {
      "cell_type": "code",
      "source": [
        "#create filtered_word_list\n",
        "\n",
        "def text_cleaned(text_list):\n",
        "    filtered_words = []\n",
        "    stop_words = set(stopwords.words('turkish'))\n",
        "    for i in range(len(text_list)):\n",
        "        clean_text_list = []\n",
        "        clean_text_list += text_list[i].split()\n",
        "        filter = [w for w in clean_text_list if not w in stop_words]\n",
        "        filtered_words.append(filter)\n",
        "    \n",
        "    return filtered_words"
      ],
      "metadata": {
        "id": "yY0LSzk3_bc2"
      },
      "execution_count": 107,
      "outputs": []
    },
    {
      "cell_type": "code",
      "source": [
        "#apply the functions of preprocess and text_cleaned\n",
        "tweet_list_preprocessed = preprocess(tweet_list)\n",
        "tweet_list_cleaned = text_cleaned(tweet_list_preprocessed)"
      ],
      "metadata": {
        "id": "BgZYiRCo_lSz"
      },
      "execution_count": 108,
      "outputs": []
    },
    {
      "cell_type": "code",
      "source": [
        "#set a function for computation similarity between two lists\n",
        "def counter_cosine_similarity(c1, c2):\n",
        "    terms = set(c1).union(c2)\n",
        "    dotprod = sum(c1.get(k, 0) * c2.get(k, 0) for k in terms)\n",
        "    magA = math.sqrt(sum(c1.get(k, 0)**2 for k in terms))\n",
        "    magB = math.sqrt(sum(c2.get(k, 0)**2 for k in terms))\n",
        "\n",
        "    #avoid float division by zero\n",
        "    if magA == 0 or magB==0:\n",
        "      return 0  \n",
        "    else:\n",
        "      return dotprod / (magA * magB)"
      ],
      "metadata": {
        "id": "BaWEnDUkPecq"
      },
      "execution_count": 109,
      "outputs": []
    },
    {
      "cell_type": "code",
      "source": [
        "#creating counter lists\n",
        "counter_giysi = Counter(giysi_list)\n",
        "counter_kurtarma = Counter(kurtarma_list)\n",
        "counter_yemek = Counter(yemek_list)\n",
        "\n",
        "#computing cosine similarities for all the tweets\n",
        "similarity_giysi = []\n",
        "similarity_kurtarma = []\n",
        "similarity_yemek = []\n",
        "\n",
        "for index in range(len(tweet_list_cleaned)):\n",
        "  counter_tweet = Counter(tweet_list_cleaned[index])\n",
        "  similarity_giysi.append(counter_cosine_similarity(counter_tweet, counter_giysi))\n",
        "  similarity_kurtarma.append(counter_cosine_similarity(counter_tweet, counter_kurtarma))\n",
        "  similarity_yemek.append(counter_cosine_similarity(counter_tweet, counter_yemek))"
      ],
      "metadata": {
        "id": "2mNNqRZaPend"
      },
      "execution_count": 110,
      "outputs": []
    },
    {
      "cell_type": "code",
      "source": [
        "#creating data frame\n",
        "tweets = []\n",
        "for index in range(len(tweet_list_cleaned)):\n",
        "  tweets.append(''.join(tweet_list_cleaned[index]))\n",
        "\n",
        "similarity_data = {'tweets': tweets,\n",
        "        'Giysi' : similarity_giysi,\n",
        "        'Kurtarma': similarity_kurtarma,\n",
        "        'Yemek': similarity_yemek}\n",
        "\n",
        "df = pd.DataFrame(similarity_data)\n",
        "df.head(10)"
      ],
      "metadata": {
        "colab": {
          "base_uri": "https://localhost:8080/",
          "height": 363
        },
        "id": "uiORlo96vL21",
        "outputId": "86425c04-7409-4b90-85f5-5cfec6bb0352"
      },
      "execution_count": 111,
      "outputs": [
        {
          "output_type": "execute_result",
          "data": {
            "text/plain": [
              "                                              tweets  Giysi  Kurtarma  Yemek\n",
              "0                    #depremadresZiyaGökalpCd.No:115    0.0  0.000000    0.0\n",
              "1                            #depremadres11.Sk.No:50    0.0  0.000000    0.0\n",
              "2                                #depremadres302.Sk.    0.0  0.000000    0.0\n",
              "3                            #depremadres11.Sk.No:50    0.0  0.000000    0.0\n",
              "4  #depremadresSevimŞİrikçiMeslekiTeknikAnadoluLi...    0.0  0.000000    0.0\n",
              "5                       #depremadresCumhuriyetCd.48C    0.0  0.000000    0.0\n",
              "6                                       #depremadres    0.0  0.000000    0.0\n",
              "7  #depremadresçekmecemahallesiuğurmumcucaddesiye...    0.0  0.073771    0.0\n",
              "8                               #depremadresUmutkent    0.0  0.000000    0.0\n",
              "9                                       #depremadres    0.0  0.000000    0.0"
            ],
            "text/html": [
              "\n",
              "  <div id=\"df-68108789-4c45-4cd9-960a-31ded850610d\">\n",
              "    <div class=\"colab-df-container\">\n",
              "      <div>\n",
              "<style scoped>\n",
              "    .dataframe tbody tr th:only-of-type {\n",
              "        vertical-align: middle;\n",
              "    }\n",
              "\n",
              "    .dataframe tbody tr th {\n",
              "        vertical-align: top;\n",
              "    }\n",
              "\n",
              "    .dataframe thead th {\n",
              "        text-align: right;\n",
              "    }\n",
              "</style>\n",
              "<table border=\"1\" class=\"dataframe\">\n",
              "  <thead>\n",
              "    <tr style=\"text-align: right;\">\n",
              "      <th></th>\n",
              "      <th>tweets</th>\n",
              "      <th>Giysi</th>\n",
              "      <th>Kurtarma</th>\n",
              "      <th>Yemek</th>\n",
              "    </tr>\n",
              "  </thead>\n",
              "  <tbody>\n",
              "    <tr>\n",
              "      <th>0</th>\n",
              "      <td>#depremadresZiyaGökalpCd.No:115</td>\n",
              "      <td>0.0</td>\n",
              "      <td>0.000000</td>\n",
              "      <td>0.0</td>\n",
              "    </tr>\n",
              "    <tr>\n",
              "      <th>1</th>\n",
              "      <td>#depremadres11.Sk.No:50</td>\n",
              "      <td>0.0</td>\n",
              "      <td>0.000000</td>\n",
              "      <td>0.0</td>\n",
              "    </tr>\n",
              "    <tr>\n",
              "      <th>2</th>\n",
              "      <td>#depremadres302.Sk.</td>\n",
              "      <td>0.0</td>\n",
              "      <td>0.000000</td>\n",
              "      <td>0.0</td>\n",
              "    </tr>\n",
              "    <tr>\n",
              "      <th>3</th>\n",
              "      <td>#depremadres11.Sk.No:50</td>\n",
              "      <td>0.0</td>\n",
              "      <td>0.000000</td>\n",
              "      <td>0.0</td>\n",
              "    </tr>\n",
              "    <tr>\n",
              "      <th>4</th>\n",
              "      <td>#depremadresSevimŞİrikçiMeslekiTeknikAnadoluLi...</td>\n",
              "      <td>0.0</td>\n",
              "      <td>0.000000</td>\n",
              "      <td>0.0</td>\n",
              "    </tr>\n",
              "    <tr>\n",
              "      <th>5</th>\n",
              "      <td>#depremadresCumhuriyetCd.48C</td>\n",
              "      <td>0.0</td>\n",
              "      <td>0.000000</td>\n",
              "      <td>0.0</td>\n",
              "    </tr>\n",
              "    <tr>\n",
              "      <th>6</th>\n",
              "      <td>#depremadres</td>\n",
              "      <td>0.0</td>\n",
              "      <td>0.000000</td>\n",
              "      <td>0.0</td>\n",
              "    </tr>\n",
              "    <tr>\n",
              "      <th>7</th>\n",
              "      <td>#depremadresçekmecemahallesiuğurmumcucaddesiye...</td>\n",
              "      <td>0.0</td>\n",
              "      <td>0.073771</td>\n",
              "      <td>0.0</td>\n",
              "    </tr>\n",
              "    <tr>\n",
              "      <th>8</th>\n",
              "      <td>#depremadresUmutkent</td>\n",
              "      <td>0.0</td>\n",
              "      <td>0.000000</td>\n",
              "      <td>0.0</td>\n",
              "    </tr>\n",
              "    <tr>\n",
              "      <th>9</th>\n",
              "      <td>#depremadres</td>\n",
              "      <td>0.0</td>\n",
              "      <td>0.000000</td>\n",
              "      <td>0.0</td>\n",
              "    </tr>\n",
              "  </tbody>\n",
              "</table>\n",
              "</div>\n",
              "      <button class=\"colab-df-convert\" onclick=\"convertToInteractive('df-68108789-4c45-4cd9-960a-31ded850610d')\"\n",
              "              title=\"Convert this dataframe to an interactive table.\"\n",
              "              style=\"display:none;\">\n",
              "        \n",
              "  <svg xmlns=\"http://www.w3.org/2000/svg\" height=\"24px\"viewBox=\"0 0 24 24\"\n",
              "       width=\"24px\">\n",
              "    <path d=\"M0 0h24v24H0V0z\" fill=\"none\"/>\n",
              "    <path d=\"M18.56 5.44l.94 2.06.94-2.06 2.06-.94-2.06-.94-.94-2.06-.94 2.06-2.06.94zm-11 1L8.5 8.5l.94-2.06 2.06-.94-2.06-.94L8.5 2.5l-.94 2.06-2.06.94zm10 10l.94 2.06.94-2.06 2.06-.94-2.06-.94-.94-2.06-.94 2.06-2.06.94z\"/><path d=\"M17.41 7.96l-1.37-1.37c-.4-.4-.92-.59-1.43-.59-.52 0-1.04.2-1.43.59L10.3 9.45l-7.72 7.72c-.78.78-.78 2.05 0 2.83L4 21.41c.39.39.9.59 1.41.59.51 0 1.02-.2 1.41-.59l7.78-7.78 2.81-2.81c.8-.78.8-2.07 0-2.86zM5.41 20L4 18.59l7.72-7.72 1.47 1.35L5.41 20z\"/>\n",
              "  </svg>\n",
              "      </button>\n",
              "      \n",
              "  <style>\n",
              "    .colab-df-container {\n",
              "      display:flex;\n",
              "      flex-wrap:wrap;\n",
              "      gap: 12px;\n",
              "    }\n",
              "\n",
              "    .colab-df-convert {\n",
              "      background-color: #E8F0FE;\n",
              "      border: none;\n",
              "      border-radius: 50%;\n",
              "      cursor: pointer;\n",
              "      display: none;\n",
              "      fill: #1967D2;\n",
              "      height: 32px;\n",
              "      padding: 0 0 0 0;\n",
              "      width: 32px;\n",
              "    }\n",
              "\n",
              "    .colab-df-convert:hover {\n",
              "      background-color: #E2EBFA;\n",
              "      box-shadow: 0px 1px 2px rgba(60, 64, 67, 0.3), 0px 1px 3px 1px rgba(60, 64, 67, 0.15);\n",
              "      fill: #174EA6;\n",
              "    }\n",
              "\n",
              "    [theme=dark] .colab-df-convert {\n",
              "      background-color: #3B4455;\n",
              "      fill: #D2E3FC;\n",
              "    }\n",
              "\n",
              "    [theme=dark] .colab-df-convert:hover {\n",
              "      background-color: #434B5C;\n",
              "      box-shadow: 0px 1px 3px 1px rgba(0, 0, 0, 0.15);\n",
              "      filter: drop-shadow(0px 1px 2px rgba(0, 0, 0, 0.3));\n",
              "      fill: #FFFFFF;\n",
              "    }\n",
              "  </style>\n",
              "\n",
              "      <script>\n",
              "        const buttonEl =\n",
              "          document.querySelector('#df-68108789-4c45-4cd9-960a-31ded850610d button.colab-df-convert');\n",
              "        buttonEl.style.display =\n",
              "          google.colab.kernel.accessAllowed ? 'block' : 'none';\n",
              "\n",
              "        async function convertToInteractive(key) {\n",
              "          const element = document.querySelector('#df-68108789-4c45-4cd9-960a-31ded850610d');\n",
              "          const dataTable =\n",
              "            await google.colab.kernel.invokeFunction('convertToInteractive',\n",
              "                                                     [key], {});\n",
              "          if (!dataTable) return;\n",
              "\n",
              "          const docLinkHtml = 'Like what you see? Visit the ' +\n",
              "            '<a target=\"_blank\" href=https://colab.research.google.com/notebooks/data_table.ipynb>data table notebook</a>'\n",
              "            + ' to learn more about interactive tables.';\n",
              "          element.innerHTML = '';\n",
              "          dataTable['output_type'] = 'display_data';\n",
              "          await google.colab.output.renderOutput(dataTable, element);\n",
              "          const docLink = document.createElement('div');\n",
              "          docLink.innerHTML = docLinkHtml;\n",
              "          element.appendChild(docLink);\n",
              "        }\n",
              "      </script>\n",
              "    </div>\n",
              "  </div>\n",
              "  "
            ]
          },
          "metadata": {},
          "execution_count": 111
        }
      ]
    },
    {
      "cell_type": "code",
      "source": [],
      "metadata": {
        "id": "NC2lqOd8W9Qx"
      },
      "execution_count": null,
      "outputs": []
    }
  ]
}